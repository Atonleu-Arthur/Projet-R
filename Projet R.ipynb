{
 "cells": [
  {
   "cell_type": "markdown",
   "id": "71b399a0",
   "metadata": {},
   "source": [
    "###  ATONLEU Arthur et AYALA EMILY\n",
    "\n",
    " \n",
    "\n",
    "\n",
    "\n",
    "\n",
    "\n",
    "\n",
    "\n",
    "\n",
    "\n",
    "\n",
    "\n",
    "\n",
    "\n",
    "\n",
    "\n",
    "\n",
    "\n",
    "\n",
    "\n",
    "\n",
    "\n",
    "\n",
    "\n",
    "\n",
    "\n",
    "#### Enseignant : LGUENSAT Redouane\n",
    "\n",
    "   PROJET R\n",
    "=========================================================\n",
    "\n",
    "\n",
    "\n",
    "### [Cliquer ici pour accéder au  lien Kaggle du dataset utilisé dans le projet](https://www.kaggle.com/rahulsah06/titanic?select=test.csv)\n",
    "\n",
    "\n",
    "\n",
    "\n",
    "### Projet réalisé ATONLEU Arthur et AYALA EMILY\n",
    "#### Classe 41 - Année 2021 - 2022\n",
    "\n"
   ]
  },
  {
   "cell_type": "code",
   "execution_count": 8,
   "id": "4ace03e6",
   "metadata": {
    "scrolled": false
   },
   "outputs": [
    {
     "data": {
      "text/html": [
       "<table>\n",
       "<thead><tr><th scope=col>PassengerId</th><th scope=col>Survived</th><th scope=col>Pclass</th><th scope=col>Name</th><th scope=col>Sex</th><th scope=col>Age</th><th scope=col>SibSp</th><th scope=col>Parch</th><th scope=col>Ticket</th><th scope=col>Fare</th><th scope=col>Cabin</th><th scope=col>Embarked</th></tr></thead>\n",
       "<tbody>\n",
       "\t<tr><td> 1                                                 </td><td>0                                                  </td><td>3                                                  </td><td>Braund, Mr. Owen Harris                            </td><td>male                                               </td><td>22                                                 </td><td>1                                                  </td><td>0                                                  </td><td>A/5 21171                                          </td><td> 7.2500                                            </td><td>                                                   </td><td>S                                                  </td></tr>\n",
       "\t<tr><td> 2                                                 </td><td>1                                                  </td><td>1                                                  </td><td>Cumings, Mrs. John Bradley (Florence Briggs Thayer)</td><td>female                                             </td><td>38                                                 </td><td>1                                                  </td><td>0                                                  </td><td>PC 17599                                           </td><td>71.2833                                            </td><td>C85                                                </td><td>C                                                  </td></tr>\n",
       "\t<tr><td> 3                                                 </td><td>1                                                  </td><td>3                                                  </td><td>Heikkinen, Miss. Laina                             </td><td>female                                             </td><td>26                                                 </td><td>0                                                  </td><td>0                                                  </td><td>STON/O2. 3101282                                   </td><td> 7.9250                                            </td><td>                                                   </td><td>S                                                  </td></tr>\n",
       "\t<tr><td> 4                                                 </td><td>1                                                  </td><td>1                                                  </td><td>Futrelle, Mrs. Jacques Heath (Lily May Peel)       </td><td>female                                             </td><td>35                                                 </td><td>1                                                  </td><td>0                                                  </td><td>113803                                             </td><td>53.1000                                            </td><td>C123                                               </td><td>S                                                  </td></tr>\n",
       "\t<tr><td> 5                                                 </td><td>0                                                  </td><td>3                                                  </td><td>Allen, Mr. William Henry                           </td><td>male                                               </td><td>35                                                 </td><td>0                                                  </td><td>0                                                  </td><td>373450                                             </td><td> 8.0500                                            </td><td>                                                   </td><td>S                                                  </td></tr>\n",
       "\t<tr><td> 6                                                 </td><td>0                                                  </td><td>3                                                  </td><td>Moran, Mr. James                                   </td><td>male                                               </td><td>NA                                                 </td><td>0                                                  </td><td>0                                                  </td><td>330877                                             </td><td> 8.4583                                            </td><td>                                                   </td><td>Q                                                  </td></tr>\n",
       "\t<tr><td> 7                                                 </td><td>0                                                  </td><td>1                                                  </td><td>McCarthy, Mr. Timothy J                            </td><td>male                                               </td><td>54                                                 </td><td>0                                                  </td><td>0                                                  </td><td>17463                                              </td><td>51.8625                                            </td><td>E46                                                </td><td>S                                                  </td></tr>\n",
       "\t<tr><td> 8                                                 </td><td>0                                                  </td><td>3                                                  </td><td>Palsson, Master. Gosta Leonard                     </td><td>male                                               </td><td> 2                                                 </td><td>3                                                  </td><td>1                                                  </td><td>349909                                             </td><td>21.0750                                            </td><td>                                                   </td><td>S                                                  </td></tr>\n",
       "\t<tr><td> 9                                                 </td><td>1                                                  </td><td>3                                                  </td><td>Johnson, Mrs. Oscar W (Elisabeth Vilhelmina Berg)  </td><td>female                                             </td><td>27                                                 </td><td>0                                                  </td><td>2                                                  </td><td>347742                                             </td><td>11.1333                                            </td><td>                                                   </td><td>S                                                  </td></tr>\n",
       "\t<tr><td>10                                                 </td><td>1                                                  </td><td>2                                                  </td><td>Nasser, Mrs. Nicholas (Adele Achem)                </td><td>female                                             </td><td>14                                                 </td><td>1                                                  </td><td>0                                                  </td><td>237736                                             </td><td>30.0708                                            </td><td>                                                   </td><td>C                                                  </td></tr>\n",
       "\t<tr><td>11                                                 </td><td>1                                                  </td><td>3                                                  </td><td>Sandstrom, Miss. Marguerite Rut                    </td><td>female                                             </td><td> 4                                                 </td><td>1                                                  </td><td>1                                                  </td><td>PP 9549                                            </td><td>16.7000                                            </td><td>G6                                                 </td><td>S                                                  </td></tr>\n",
       "\t<tr><td>12                                                 </td><td>1                                                  </td><td>1                                                  </td><td>Bonnell, Miss. Elizabeth                           </td><td>female                                             </td><td>58                                                 </td><td>0                                                  </td><td>0                                                  </td><td>113783                                             </td><td>26.5500                                            </td><td>C103                                               </td><td>S                                                  </td></tr>\n",
       "\t<tr><td>13                                                 </td><td>0                                                  </td><td>3                                                  </td><td>Saundercock, Mr. William Henry                     </td><td>male                                               </td><td>20                                                 </td><td>0                                                  </td><td>0                                                  </td><td>A/5. 2151                                          </td><td> 8.0500                                            </td><td>                                                   </td><td>S                                                  </td></tr>\n",
       "\t<tr><td>14                                                 </td><td>0                                                  </td><td>3                                                  </td><td>Andersson, Mr. Anders Johan                        </td><td>male                                               </td><td>39                                                 </td><td>1                                                  </td><td>5                                                  </td><td>347082                                             </td><td>31.2750                                            </td><td>                                                   </td><td>S                                                  </td></tr>\n",
       "\t<tr><td>15                                                 </td><td>0                                                  </td><td>3                                                  </td><td>Vestrom, Miss. Hulda Amanda Adolfina               </td><td>female                                             </td><td>14                                                 </td><td>0                                                  </td><td>0                                                  </td><td>350406                                             </td><td> 7.8542                                            </td><td>                                                   </td><td>S                                                  </td></tr>\n",
       "</tbody>\n",
       "</table>\n"
      ],
      "text/latex": [
       "\\begin{tabular}{r|llllllllllll}\n",
       " PassengerId & Survived & Pclass & Name & Sex & Age & SibSp & Parch & Ticket & Fare & Cabin & Embarked\\\\\n",
       "\\hline\n",
       "\t  1                                                  & 0                                                   & 3                                                   & Braund, Mr. Owen Harris                             & male                                                & 22                                                  & 1                                                   & 0                                                   & A/5 21171                                           &  7.2500                                             &                                                     & S                                                  \\\\\n",
       "\t  2                                                  & 1                                                   & 1                                                   & Cumings, Mrs. John Bradley (Florence Briggs Thayer) & female                                              & 38                                                  & 1                                                   & 0                                                   & PC 17599                                            & 71.2833                                             & C85                                                 & C                                                  \\\\\n",
       "\t  3                                                  & 1                                                   & 3                                                   & Heikkinen, Miss. Laina                              & female                                              & 26                                                  & 0                                                   & 0                                                   & STON/O2. 3101282                                    &  7.9250                                             &                                                     & S                                                  \\\\\n",
       "\t  4                                                  & 1                                                   & 1                                                   & Futrelle, Mrs. Jacques Heath (Lily May Peel)        & female                                              & 35                                                  & 1                                                   & 0                                                   & 113803                                              & 53.1000                                             & C123                                                & S                                                  \\\\\n",
       "\t  5                                                  & 0                                                   & 3                                                   & Allen, Mr. William Henry                            & male                                                & 35                                                  & 0                                                   & 0                                                   & 373450                                              &  8.0500                                             &                                                     & S                                                  \\\\\n",
       "\t  6                                                  & 0                                                   & 3                                                   & Moran, Mr. James                                    & male                                                & NA                                                  & 0                                                   & 0                                                   & 330877                                              &  8.4583                                             &                                                     & Q                                                  \\\\\n",
       "\t  7                                                  & 0                                                   & 1                                                   & McCarthy, Mr. Timothy J                             & male                                                & 54                                                  & 0                                                   & 0                                                   & 17463                                               & 51.8625                                             & E46                                                 & S                                                  \\\\\n",
       "\t  8                                                  & 0                                                   & 3                                                   & Palsson, Master. Gosta Leonard                      & male                                                &  2                                                  & 3                                                   & 1                                                   & 349909                                              & 21.0750                                             &                                                     & S                                                  \\\\\n",
       "\t  9                                                  & 1                                                   & 3                                                   & Johnson, Mrs. Oscar W (Elisabeth Vilhelmina Berg)   & female                                              & 27                                                  & 0                                                   & 2                                                   & 347742                                              & 11.1333                                             &                                                     & S                                                  \\\\\n",
       "\t 10                                                  & 1                                                   & 2                                                   & Nasser, Mrs. Nicholas (Adele Achem)                 & female                                              & 14                                                  & 1                                                   & 0                                                   & 237736                                              & 30.0708                                             &                                                     & C                                                  \\\\\n",
       "\t 11                                                  & 1                                                   & 3                                                   & Sandstrom, Miss. Marguerite Rut                     & female                                              &  4                                                  & 1                                                   & 1                                                   & PP 9549                                             & 16.7000                                             & G6                                                  & S                                                  \\\\\n",
       "\t 12                                                  & 1                                                   & 1                                                   & Bonnell, Miss. Elizabeth                            & female                                              & 58                                                  & 0                                                   & 0                                                   & 113783                                              & 26.5500                                             & C103                                                & S                                                  \\\\\n",
       "\t 13                                                  & 0                                                   & 3                                                   & Saundercock, Mr. William Henry                      & male                                                & 20                                                  & 0                                                   & 0                                                   & A/5. 2151                                           &  8.0500                                             &                                                     & S                                                  \\\\\n",
       "\t 14                                                  & 0                                                   & 3                                                   & Andersson, Mr. Anders Johan                         & male                                                & 39                                                  & 1                                                   & 5                                                   & 347082                                              & 31.2750                                             &                                                     & S                                                  \\\\\n",
       "\t 15                                                  & 0                                                   & 3                                                   & Vestrom, Miss. Hulda Amanda Adolfina                & female                                              & 14                                                  & 0                                                   & 0                                                   & 350406                                              &  7.8542                                             &                                                     & S                                                  \\\\\n",
       "\\end{tabular}\n"
      ],
      "text/markdown": [
       "\n",
       "| PassengerId | Survived | Pclass | Name | Sex | Age | SibSp | Parch | Ticket | Fare | Cabin | Embarked |\n",
       "|---|---|---|---|---|---|---|---|---|---|---|---|\n",
       "|  1                                                  | 0                                                   | 3                                                   | Braund, Mr. Owen Harris                             | male                                                | 22                                                  | 1                                                   | 0                                                   | A/5 21171                                           |  7.2500                                             |                                                     | S                                                   |\n",
       "|  2                                                  | 1                                                   | 1                                                   | Cumings, Mrs. John Bradley (Florence Briggs Thayer) | female                                              | 38                                                  | 1                                                   | 0                                                   | PC 17599                                            | 71.2833                                             | C85                                                 | C                                                   |\n",
       "|  3                                                  | 1                                                   | 3                                                   | Heikkinen, Miss. Laina                              | female                                              | 26                                                  | 0                                                   | 0                                                   | STON/O2. 3101282                                    |  7.9250                                             |                                                     | S                                                   |\n",
       "|  4                                                  | 1                                                   | 1                                                   | Futrelle, Mrs. Jacques Heath (Lily May Peel)        | female                                              | 35                                                  | 1                                                   | 0                                                   | 113803                                              | 53.1000                                             | C123                                                | S                                                   |\n",
       "|  5                                                  | 0                                                   | 3                                                   | Allen, Mr. William Henry                            | male                                                | 35                                                  | 0                                                   | 0                                                   | 373450                                              |  8.0500                                             |                                                     | S                                                   |\n",
       "|  6                                                  | 0                                                   | 3                                                   | Moran, Mr. James                                    | male                                                | NA                                                  | 0                                                   | 0                                                   | 330877                                              |  8.4583                                             |                                                     | Q                                                   |\n",
       "|  7                                                  | 0                                                   | 1                                                   | McCarthy, Mr. Timothy J                             | male                                                | 54                                                  | 0                                                   | 0                                                   | 17463                                               | 51.8625                                             | E46                                                 | S                                                   |\n",
       "|  8                                                  | 0                                                   | 3                                                   | Palsson, Master. Gosta Leonard                      | male                                                |  2                                                  | 3                                                   | 1                                                   | 349909                                              | 21.0750                                             |                                                     | S                                                   |\n",
       "|  9                                                  | 1                                                   | 3                                                   | Johnson, Mrs. Oscar W (Elisabeth Vilhelmina Berg)   | female                                              | 27                                                  | 0                                                   | 2                                                   | 347742                                              | 11.1333                                             |                                                     | S                                                   |\n",
       "| 10                                                  | 1                                                   | 2                                                   | Nasser, Mrs. Nicholas (Adele Achem)                 | female                                              | 14                                                  | 1                                                   | 0                                                   | 237736                                              | 30.0708                                             |                                                     | C                                                   |\n",
       "| 11                                                  | 1                                                   | 3                                                   | Sandstrom, Miss. Marguerite Rut                     | female                                              |  4                                                  | 1                                                   | 1                                                   | PP 9549                                             | 16.7000                                             | G6                                                  | S                                                   |\n",
       "| 12                                                  | 1                                                   | 1                                                   | Bonnell, Miss. Elizabeth                            | female                                              | 58                                                  | 0                                                   | 0                                                   | 113783                                              | 26.5500                                             | C103                                                | S                                                   |\n",
       "| 13                                                  | 0                                                   | 3                                                   | Saundercock, Mr. William Henry                      | male                                                | 20                                                  | 0                                                   | 0                                                   | A/5. 2151                                           |  8.0500                                             |                                                     | S                                                   |\n",
       "| 14                                                  | 0                                                   | 3                                                   | Andersson, Mr. Anders Johan                         | male                                                | 39                                                  | 1                                                   | 5                                                   | 347082                                              | 31.2750                                             |                                                     | S                                                   |\n",
       "| 15                                                  | 0                                                   | 3                                                   | Vestrom, Miss. Hulda Amanda Adolfina                | female                                              | 14                                                  | 0                                                   | 0                                                   | 350406                                              |  7.8542                                             |                                                     | S                                                   |\n",
       "\n"
      ],
      "text/plain": [
       "   PassengerId Survived Pclass\n",
       "1   1          0        3     \n",
       "2   2          1        1     \n",
       "3   3          1        3     \n",
       "4   4          1        1     \n",
       "5   5          0        3     \n",
       "6   6          0        3     \n",
       "7   7          0        1     \n",
       "8   8          0        3     \n",
       "9   9          1        3     \n",
       "10 10          1        2     \n",
       "11 11          1        3     \n",
       "12 12          1        1     \n",
       "13 13          0        3     \n",
       "14 14          0        3     \n",
       "15 15          0        3     \n",
       "   Name                                                Sex    Age SibSp Parch\n",
       "1  Braund, Mr. Owen Harris                             male   22  1     0    \n",
       "2  Cumings, Mrs. John Bradley (Florence Briggs Thayer) female 38  1     0    \n",
       "3  Heikkinen, Miss. Laina                              female 26  0     0    \n",
       "4  Futrelle, Mrs. Jacques Heath (Lily May Peel)        female 35  1     0    \n",
       "5  Allen, Mr. William Henry                            male   35  0     0    \n",
       "6  Moran, Mr. James                                    male   NA  0     0    \n",
       "7  McCarthy, Mr. Timothy J                             male   54  0     0    \n",
       "8  Palsson, Master. Gosta Leonard                      male    2  3     1    \n",
       "9  Johnson, Mrs. Oscar W (Elisabeth Vilhelmina Berg)   female 27  0     2    \n",
       "10 Nasser, Mrs. Nicholas (Adele Achem)                 female 14  1     0    \n",
       "11 Sandstrom, Miss. Marguerite Rut                     female  4  1     1    \n",
       "12 Bonnell, Miss. Elizabeth                            female 58  0     0    \n",
       "13 Saundercock, Mr. William Henry                      male   20  0     0    \n",
       "14 Andersson, Mr. Anders Johan                         male   39  1     5    \n",
       "15 Vestrom, Miss. Hulda Amanda Adolfina                female 14  0     0    \n",
       "   Ticket           Fare    Cabin Embarked\n",
       "1  A/5 21171         7.2500       S       \n",
       "2  PC 17599         71.2833 C85   C       \n",
       "3  STON/O2. 3101282  7.9250       S       \n",
       "4  113803           53.1000 C123  S       \n",
       "5  373450            8.0500       S       \n",
       "6  330877            8.4583       Q       \n",
       "7  17463            51.8625 E46   S       \n",
       "8  349909           21.0750       S       \n",
       "9  347742           11.1333       S       \n",
       "10 237736           30.0708       C       \n",
       "11 PP 9549          16.7000 G6    S       \n",
       "12 113783           26.5500 C103  S       \n",
       "13 A/5. 2151         8.0500       S       \n",
       "14 347082           31.2750       S       \n",
       "15 350406            7.8542       S       "
      ]
     },
     "metadata": {},
     "output_type": "display_data"
    }
   ],
   "source": [
    "# Fusion du testset et du trainset \n",
    "data1 <- read.csv('test.csv')\n",
    "data2 <- read.csv('train.csv')\n",
    "data <- rbind(data2, data1)\n",
    "head(data,15)"
   ]
  },
  {
   "cell_type": "code",
   "execution_count": 2,
   "id": "6da8a204",
   "metadata": {
    "scrolled": false
   },
   "outputs": [
    {
     "data": {
      "text/html": [
       "<table>\n",
       "<thead><tr><th></th><th scope=col>PassengerId</th><th scope=col>Survived</th><th scope=col>Pclass</th><th scope=col>Name</th><th scope=col>Sex</th><th scope=col>Age</th><th scope=col>SibSp</th><th scope=col>Parch</th><th scope=col>Ticket</th><th scope=col>Fare</th><th scope=col>Cabin</th><th scope=col>Embarked</th></tr></thead>\n",
       "<tbody>\n",
       "\t<tr><th scope=row>1304</th><td>1304                          </td><td>1                             </td><td>3                             </td><td>Henriksson, Miss. Jenny Lovisa</td><td>female                        </td><td>28.0                          </td><td>0                             </td><td>0                             </td><td>347086                        </td><td>  7.7750                      </td><td>                              </td><td>S                             </td></tr>\n",
       "\t<tr><th scope=row>1305</th><td>1305                          </td><td>0                             </td><td>3                             </td><td>Spector, Mr. Woolf            </td><td>male                          </td><td>  NA                          </td><td>0                             </td><td>0                             </td><td>A.5. 3236                     </td><td>  8.0500                      </td><td>                              </td><td>S                             </td></tr>\n",
       "\t<tr><th scope=row>1306</th><td>1306                          </td><td>1                             </td><td>1                             </td><td>Oliva y Ocana, Dona. Fermina  </td><td>female                        </td><td>39.0                          </td><td>0                             </td><td>0                             </td><td>PC 17758                      </td><td>108.9000                      </td><td>C105                          </td><td>C                             </td></tr>\n",
       "\t<tr><th scope=row>1307</th><td>1307                          </td><td>0                             </td><td>3                             </td><td>Saether, Mr. Simon Sivertsen  </td><td>male                          </td><td>38.5                          </td><td>0                             </td><td>0                             </td><td>SOTON/O.Q. 3101262            </td><td>  7.2500                      </td><td>                              </td><td>S                             </td></tr>\n",
       "\t<tr><th scope=row>1308</th><td>1308                          </td><td>0                             </td><td>3                             </td><td>Ware, Mr. Frederick           </td><td>male                          </td><td>  NA                          </td><td>0                             </td><td>0                             </td><td>359309                        </td><td>  8.0500                      </td><td>                              </td><td>S                             </td></tr>\n",
       "\t<tr><th scope=row>1309</th><td>1309                          </td><td>0                             </td><td>3                             </td><td>Peter, Master. Michael J      </td><td>male                          </td><td>  NA                          </td><td>1                             </td><td>1                             </td><td>2668                          </td><td> 22.3583                      </td><td>                              </td><td>C                             </td></tr>\n",
       "</tbody>\n",
       "</table>\n"
      ],
      "text/latex": [
       "\\begin{tabular}{r|llllllllllll}\n",
       "  & PassengerId & Survived & Pclass & Name & Sex & Age & SibSp & Parch & Ticket & Fare & Cabin & Embarked\\\\\n",
       "\\hline\n",
       "\t1304 & 1304                           & 1                              & 3                              & Henriksson, Miss. Jenny Lovisa & female                         & 28.0                           & 0                              & 0                              & 347086                         &   7.7750                       &                                & S                             \\\\\n",
       "\t1305 & 1305                           & 0                              & 3                              & Spector, Mr. Woolf             & male                           &   NA                           & 0                              & 0                              & A.5. 3236                      &   8.0500                       &                                & S                             \\\\\n",
       "\t1306 & 1306                           & 1                              & 1                              & Oliva y Ocana, Dona. Fermina   & female                         & 39.0                           & 0                              & 0                              & PC 17758                       & 108.9000                       & C105                           & C                             \\\\\n",
       "\t1307 & 1307                           & 0                              & 3                              & Saether, Mr. Simon Sivertsen   & male                           & 38.5                           & 0                              & 0                              & SOTON/O.Q. 3101262             &   7.2500                       &                                & S                             \\\\\n",
       "\t1308 & 1308                           & 0                              & 3                              & Ware, Mr. Frederick            & male                           &   NA                           & 0                              & 0                              & 359309                         &   8.0500                       &                                & S                             \\\\\n",
       "\t1309 & 1309                           & 0                              & 3                              & Peter, Master. Michael J       & male                           &   NA                           & 1                              & 1                              & 2668                           &  22.3583                       &                                & C                             \\\\\n",
       "\\end{tabular}\n"
      ],
      "text/markdown": [
       "\n",
       "| <!--/--> | PassengerId | Survived | Pclass | Name | Sex | Age | SibSp | Parch | Ticket | Fare | Cabin | Embarked |\n",
       "|---|---|---|---|---|---|---|---|---|---|---|---|---|\n",
       "| 1304 | 1304                           | 1                              | 3                              | Henriksson, Miss. Jenny Lovisa | female                         | 28.0                           | 0                              | 0                              | 347086                         |   7.7750                       |                                | S                              |\n",
       "| 1305 | 1305                           | 0                              | 3                              | Spector, Mr. Woolf             | male                           |   NA                           | 0                              | 0                              | A.5. 3236                      |   8.0500                       |                                | S                              |\n",
       "| 1306 | 1306                           | 1                              | 1                              | Oliva y Ocana, Dona. Fermina   | female                         | 39.0                           | 0                              | 0                              | PC 17758                       | 108.9000                       | C105                           | C                              |\n",
       "| 1307 | 1307                           | 0                              | 3                              | Saether, Mr. Simon Sivertsen   | male                           | 38.5                           | 0                              | 0                              | SOTON/O.Q. 3101262             |   7.2500                       |                                | S                              |\n",
       "| 1308 | 1308                           | 0                              | 3                              | Ware, Mr. Frederick            | male                           |   NA                           | 0                              | 0                              | 359309                         |   8.0500                       |                                | S                              |\n",
       "| 1309 | 1309                           | 0                              | 3                              | Peter, Master. Michael J       | male                           |   NA                           | 1                              | 1                              | 2668                           |  22.3583                       |                                | C                              |\n",
       "\n"
      ],
      "text/plain": [
       "     PassengerId Survived Pclass Name                           Sex    Age \n",
       "1304 1304        1        3      Henriksson, Miss. Jenny Lovisa female 28.0\n",
       "1305 1305        0        3      Spector, Mr. Woolf             male     NA\n",
       "1306 1306        1        1      Oliva y Ocana, Dona. Fermina   female 39.0\n",
       "1307 1307        0        3      Saether, Mr. Simon Sivertsen   male   38.5\n",
       "1308 1308        0        3      Ware, Mr. Frederick            male     NA\n",
       "1309 1309        0        3      Peter, Master. Michael J       male     NA\n",
       "     SibSp Parch Ticket             Fare     Cabin Embarked\n",
       "1304 0     0     347086               7.7750       S       \n",
       "1305 0     0     A.5. 3236            8.0500       S       \n",
       "1306 0     0     PC 17758           108.9000 C105  C       \n",
       "1307 0     0     SOTON/O.Q. 3101262   7.2500       S       \n",
       "1308 0     0     359309               8.0500       S       \n",
       "1309 1     1     2668                22.3583       C       "
      ]
     },
     "metadata": {},
     "output_type": "display_data"
    }
   ],
   "source": [
    "tail(data)"
   ]
  },
  {
   "cell_type": "code",
   "execution_count": 3,
   "id": "681cbaf4",
   "metadata": {},
   "outputs": [
    {
     "data": {
      "text/html": [
       "<table>\n",
       "<thead><tr><th scope=col>PassengerId</th><th scope=col>Survived</th><th scope=col>Pclass</th><th scope=col>Name</th><th scope=col>Sex</th><th scope=col>Age</th><th scope=col>SibSp</th><th scope=col>Parch</th><th scope=col>Ticket</th><th scope=col>Fare</th><th scope=col>Cabin</th><th scope=col>Embarked</th></tr></thead>\n",
       "<tbody>\n",
       "\t<tr><td>1                                                  </td><td>0                                                  </td><td>3                                                  </td><td>Braund, Mr. Owen Harris                            </td><td>male                                               </td><td>22                                                 </td><td>1                                                  </td><td>0                                                  </td><td>A/5 21171                                          </td><td> 7.2500                                            </td><td>                                                   </td><td>S                                                  </td></tr>\n",
       "\t<tr><td>2                                                  </td><td>1                                                  </td><td>1                                                  </td><td>Cumings, Mrs. John Bradley (Florence Briggs Thayer)</td><td>female                                             </td><td>38                                                 </td><td>1                                                  </td><td>0                                                  </td><td>PC 17599                                           </td><td>71.2833                                            </td><td>C85                                                </td><td>C                                                  </td></tr>\n",
       "\t<tr><td>3                                                  </td><td>1                                                  </td><td>3                                                  </td><td>Heikkinen, Miss. Laina                             </td><td>female                                             </td><td>26                                                 </td><td>0                                                  </td><td>0                                                  </td><td>STON/O2. 3101282                                   </td><td> 7.9250                                            </td><td>                                                   </td><td>S                                                  </td></tr>\n",
       "\t<tr><td>4                                                  </td><td>1                                                  </td><td>1                                                  </td><td>Futrelle, Mrs. Jacques Heath (Lily May Peel)       </td><td>female                                             </td><td>35                                                 </td><td>1                                                  </td><td>0                                                  </td><td>113803                                             </td><td>53.1000                                            </td><td>C123                                               </td><td>S                                                  </td></tr>\n",
       "\t<tr><td>5                                                  </td><td>0                                                  </td><td>3                                                  </td><td>Allen, Mr. William Henry                           </td><td>male                                               </td><td>35                                                 </td><td>0                                                  </td><td>0                                                  </td><td>373450                                             </td><td> 8.0500                                            </td><td>                                                   </td><td>S                                                  </td></tr>\n",
       "\t<tr><td>6                                                  </td><td>0                                                  </td><td>3                                                  </td><td>Moran, Mr. James                                   </td><td>male                                               </td><td>NA                                                 </td><td>0                                                  </td><td>0                                                  </td><td>330877                                             </td><td> 8.4583                                            </td><td>                                                   </td><td>Q                                                  </td></tr>\n",
       "</tbody>\n",
       "</table>\n"
      ],
      "text/latex": [
       "\\begin{tabular}{r|llllllllllll}\n",
       " PassengerId & Survived & Pclass & Name & Sex & Age & SibSp & Parch & Ticket & Fare & Cabin & Embarked\\\\\n",
       "\\hline\n",
       "\t 1                                                   & 0                                                   & 3                                                   & Braund, Mr. Owen Harris                             & male                                                & 22                                                  & 1                                                   & 0                                                   & A/5 21171                                           &  7.2500                                             &                                                     & S                                                  \\\\\n",
       "\t 2                                                   & 1                                                   & 1                                                   & Cumings, Mrs. John Bradley (Florence Briggs Thayer) & female                                              & 38                                                  & 1                                                   & 0                                                   & PC 17599                                            & 71.2833                                             & C85                                                 & C                                                  \\\\\n",
       "\t 3                                                   & 1                                                   & 3                                                   & Heikkinen, Miss. Laina                              & female                                              & 26                                                  & 0                                                   & 0                                                   & STON/O2. 3101282                                    &  7.9250                                             &                                                     & S                                                  \\\\\n",
       "\t 4                                                   & 1                                                   & 1                                                   & Futrelle, Mrs. Jacques Heath (Lily May Peel)        & female                                              & 35                                                  & 1                                                   & 0                                                   & 113803                                              & 53.1000                                             & C123                                                & S                                                  \\\\\n",
       "\t 5                                                   & 0                                                   & 3                                                   & Allen, Mr. William Henry                            & male                                                & 35                                                  & 0                                                   & 0                                                   & 373450                                              &  8.0500                                             &                                                     & S                                                  \\\\\n",
       "\t 6                                                   & 0                                                   & 3                                                   & Moran, Mr. James                                    & male                                                & NA                                                  & 0                                                   & 0                                                   & 330877                                              &  8.4583                                             &                                                     & Q                                                  \\\\\n",
       "\\end{tabular}\n"
      ],
      "text/markdown": [
       "\n",
       "| PassengerId | Survived | Pclass | Name | Sex | Age | SibSp | Parch | Ticket | Fare | Cabin | Embarked |\n",
       "|---|---|---|---|---|---|---|---|---|---|---|---|\n",
       "| 1                                                   | 0                                                   | 3                                                   | Braund, Mr. Owen Harris                             | male                                                | 22                                                  | 1                                                   | 0                                                   | A/5 21171                                           |  7.2500                                             |                                                     | S                                                   |\n",
       "| 2                                                   | 1                                                   | 1                                                   | Cumings, Mrs. John Bradley (Florence Briggs Thayer) | female                                              | 38                                                  | 1                                                   | 0                                                   | PC 17599                                            | 71.2833                                             | C85                                                 | C                                                   |\n",
       "| 3                                                   | 1                                                   | 3                                                   | Heikkinen, Miss. Laina                              | female                                              | 26                                                  | 0                                                   | 0                                                   | STON/O2. 3101282                                    |  7.9250                                             |                                                     | S                                                   |\n",
       "| 4                                                   | 1                                                   | 1                                                   | Futrelle, Mrs. Jacques Heath (Lily May Peel)        | female                                              | 35                                                  | 1                                                   | 0                                                   | 113803                                              | 53.1000                                             | C123                                                | S                                                   |\n",
       "| 5                                                   | 0                                                   | 3                                                   | Allen, Mr. William Henry                            | male                                                | 35                                                  | 0                                                   | 0                                                   | 373450                                              |  8.0500                                             |                                                     | S                                                   |\n",
       "| 6                                                   | 0                                                   | 3                                                   | Moran, Mr. James                                    | male                                                | NA                                                  | 0                                                   | 0                                                   | 330877                                              |  8.4583                                             |                                                     | Q                                                   |\n",
       "\n"
      ],
      "text/plain": [
       "  PassengerId Survived Pclass\n",
       "1 1           0        3     \n",
       "2 2           1        1     \n",
       "3 3           1        3     \n",
       "4 4           1        1     \n",
       "5 5           0        3     \n",
       "6 6           0        3     \n",
       "  Name                                                Sex    Age SibSp Parch\n",
       "1 Braund, Mr. Owen Harris                             male   22  1     0    \n",
       "2 Cumings, Mrs. John Bradley (Florence Briggs Thayer) female 38  1     0    \n",
       "3 Heikkinen, Miss. Laina                              female 26  0     0    \n",
       "4 Futrelle, Mrs. Jacques Heath (Lily May Peel)        female 35  1     0    \n",
       "5 Allen, Mr. William Henry                            male   35  0     0    \n",
       "6 Moran, Mr. James                                    male   NA  0     0    \n",
       "  Ticket           Fare    Cabin Embarked\n",
       "1 A/5 21171         7.2500       S       \n",
       "2 PC 17599         71.2833 C85   C       \n",
       "3 STON/O2. 3101282  7.9250       S       \n",
       "4 113803           53.1000 C123  S       \n",
       "5 373450            8.0500       S       \n",
       "6 330877            8.4583       Q       "
      ]
     },
     "metadata": {},
     "output_type": "display_data"
    }
   ],
   "source": [
    "head(data)"
   ]
  },
  {
   "cell_type": "markdown",
   "id": "7d21b9aa",
   "metadata": {},
   "source": [
    "\n",
    "# I.) Description des données\n",
    "\n",
    "### Objectif :\n",
    "- Comprendre du mieux possible nos données (un petit pas en avant vaut mieux qu'un grand pas en arriere)\n",
    "\n",
    "#### Features utilisés dans cette analyse de données :\n",
    "- **Survived : int** - 0 = Mort     :629 ; 1 = Survivant:417\n",
    "\n",
    "\n",
    "- **Age : num** - Min.   : 0.17, Median : 27.00, Mean   : 30.27, Max.   : 76.00 \n",
    "\n",
    "\n",
    "- **Pclass : int** - 1 = 1ère class :284 ; 2 = 2ième class:261; 3 = 3ième class:501 \n",
    "\n",
    "\n",
    "- **Sex : Factor** - female : 152 ; male  : 266\n",
    "\n",
    "#### Types de variables :\n",
    "- **Qualitatives** :\n",
    "    - Sex : female, male\n",
    "    - Survived :  1 = Survivant ;  2 = Mort\n",
    "    - Pclass : 1 = 1ième class , 2 = 2ième class, 3 = ième class\n",
    "- **Quantitative** :\n",
    "    \n",
    "    - Age\n",
    "    \n",
    "    \n",
    "  \n",
    "    "
   ]
  },
  {
   "cell_type": "markdown",
   "id": "cba44967",
   "metadata": {},
   "source": [
    "Les informations ci-dessous sont utilisées dans la cellule **description de données ci-dessus**"
   ]
  },
  {
   "cell_type": "code",
   "execution_count": 9,
   "id": "3b346765",
   "metadata": {},
   "outputs": [],
   "source": [
    "# Création d'un datadrame df\n",
    "df <- data.frame(data)"
   ]
  },
  {
   "cell_type": "markdown",
   "id": "4573df23",
   "metadata": {},
   "source": [
    " ****recupération des features avec lesquels on va travaillé dans le dataset dans la variable df_sub0****"
   ]
  },
  {
   "cell_type": "code",
   "execution_count": 10,
   "id": "d73034ee",
   "metadata": {},
   "outputs": [
    {
     "data": {
      "text/html": [
       "<table>\n",
       "<thead><tr><th scope=col>Survived</th><th scope=col>Age</th><th scope=col>Sex</th><th scope=col>Pclass</th></tr></thead>\n",
       "<tbody>\n",
       "\t<tr><td>0     </td><td>22    </td><td>male  </td><td>3     </td></tr>\n",
       "\t<tr><td>1     </td><td>38    </td><td>female</td><td>1     </td></tr>\n",
       "\t<tr><td>1     </td><td>26    </td><td>female</td><td>3     </td></tr>\n",
       "\t<tr><td>1     </td><td>35    </td><td>female</td><td>1     </td></tr>\n",
       "\t<tr><td>0     </td><td>35    </td><td>male  </td><td>3     </td></tr>\n",
       "\t<tr><td>0     </td><td>NA    </td><td>male  </td><td>3     </td></tr>\n",
       "</tbody>\n",
       "</table>\n"
      ],
      "text/latex": [
       "\\begin{tabular}{r|llll}\n",
       " Survived & Age & Sex & Pclass\\\\\n",
       "\\hline\n",
       "\t 0      & 22     & male   & 3     \\\\\n",
       "\t 1      & 38     & female & 1     \\\\\n",
       "\t 1      & 26     & female & 3     \\\\\n",
       "\t 1      & 35     & female & 1     \\\\\n",
       "\t 0      & 35     & male   & 3     \\\\\n",
       "\t 0      & NA     & male   & 3     \\\\\n",
       "\\end{tabular}\n"
      ],
      "text/markdown": [
       "\n",
       "| Survived | Age | Sex | Pclass |\n",
       "|---|---|---|---|\n",
       "| 0      | 22     | male   | 3      |\n",
       "| 1      | 38     | female | 1      |\n",
       "| 1      | 26     | female | 3      |\n",
       "| 1      | 35     | female | 1      |\n",
       "| 0      | 35     | male   | 3      |\n",
       "| 0      | NA     | male   | 3      |\n",
       "\n"
      ],
      "text/plain": [
       "  Survived Age Sex    Pclass\n",
       "1 0        22  male   3     \n",
       "2 1        38  female 1     \n",
       "3 1        26  female 3     \n",
       "4 1        35  female 1     \n",
       "5 0        35  male   3     \n",
       "6 0        NA  male   3     "
      ]
     },
     "metadata": {},
     "output_type": "display_data"
    }
   ],
   "source": [
    "df_sub0 <- subset(df, select=c(\"Survived\",\"Age\",\"Sex\",\"Pclass\"))\n",
    "head(df_sub0)"
   ]
  },
  {
   "cell_type": "markdown",
   "id": "f19625ff",
   "metadata": {},
   "source": [
    "****Attache des varibles du dataset pour pouvoir les manipuler directement par leur nom****"
   ]
  },
  {
   "cell_type": "code",
   "execution_count": 11,
   "id": "1ab6d230",
   "metadata": {},
   "outputs": [
    {
     "data": {
      "text/html": [
       "<ol class=list-inline>\n",
       "\t<li>'Survived'</li>\n",
       "\t<li>'Age'</li>\n",
       "\t<li>'Sex'</li>\n",
       "\t<li>'Pclass'</li>\n",
       "</ol>\n"
      ],
      "text/latex": [
       "\\begin{enumerate*}\n",
       "\\item 'Survived'\n",
       "\\item 'Age'\n",
       "\\item 'Sex'\n",
       "\\item 'Pclass'\n",
       "\\end{enumerate*}\n"
      ],
      "text/markdown": [
       "1. 'Survived'\n",
       "2. 'Age'\n",
       "3. 'Sex'\n",
       "4. 'Pclass'\n",
       "\n",
       "\n"
      ],
      "text/plain": [
       "[1] \"Survived\" \"Age\"      \"Sex\"      \"Pclass\"  "
      ]
     },
     "metadata": {},
     "output_type": "display_data"
    }
   ],
   "source": [
    "attach(df_sub0)\n",
    "names(df_sub0)"
   ]
  },
  {
   "cell_type": "code",
   "execution_count": 7,
   "id": "b39d9a01",
   "metadata": {},
   "outputs": [
    {
     "name": "stdout",
     "output_type": "stream",
     "text": [
      "'data.frame':\t1309 obs. of  4 variables:\n",
      " $ Survived: int  0 1 1 1 0 0 0 0 1 1 ...\n",
      " $ Age     : num  22 38 26 35 35 NA 54 2 27 14 ...\n",
      " $ Sex     : Factor w/ 2 levels \"female\",\"male\": 2 1 1 1 2 2 2 2 1 1 ...\n",
      " $ Pclass  : int  3 1 3 1 3 3 1 3 3 2 ...\n"
     ]
    }
   ],
   "source": [
    "str(df_sub0)"
   ]
  },
  {
   "cell_type": "code",
   "execution_count": 73,
   "id": "0e140a7d",
   "metadata": {},
   "outputs": [
    {
     "data": {
      "text/html": [
       "'character'"
      ],
      "text/latex": [
       "'character'"
      ],
      "text/markdown": [
       "'character'"
      ],
      "text/plain": [
       "[1] \"character\""
      ]
     },
     "metadata": {},
     "output_type": "display_data"
    }
   ],
   "source": [
    "df_sub0$Survived <- factor(df_sub0$Survived)\n",
    "df_sub0$Pclass <- factor(df_sub0$Pclass)\n",
    "class(Pclass)"
   ]
  },
  {
   "cell_type": "code",
   "execution_count": 31,
   "id": "9f064364",
   "metadata": {},
   "outputs": [
    {
     "data": {
      "text/html": [
       "'factor'"
      ],
      "text/latex": [
       "'factor'"
      ],
      "text/markdown": [
       "'factor'"
      ],
      "text/plain": [
       "[1] \"factor\""
      ]
     },
     "metadata": {},
     "output_type": "display_data"
    }
   ],
   "source": [
    "class(df_sub0$Pclass)"
   ]
  },
  {
   "cell_type": "code",
   "execution_count": 8,
   "id": "2239a627",
   "metadata": {},
   "outputs": [
    {
     "data": {
      "text/plain": [
       "   Min. 1st Qu.  Median    Mean 3rd Qu.    Max.    NA's \n",
       "   0.17   21.00   28.00   29.88   39.00   80.00     263 "
      ]
     },
     "metadata": {},
     "output_type": "display_data"
    }
   ],
   "source": [
    "summary(Age)"
   ]
  },
  {
   "cell_type": "markdown",
   "id": "cf6ec936",
   "metadata": {},
   "source": [
    "#### Affiche des dernière ligne du dataset"
   ]
  },
  {
   "cell_type": "code",
   "execution_count": 9,
   "id": "0bbf19ca",
   "metadata": {},
   "outputs": [
    {
     "data": {
      "text/html": [
       "<table>\n",
       "<thead><tr><th></th><th scope=col>Survived</th><th scope=col>Age</th><th scope=col>Sex</th><th scope=col>Pclass</th></tr></thead>\n",
       "<tbody>\n",
       "\t<tr><th scope=row>1304</th><td>1     </td><td>28.0  </td><td>female</td><td>3     </td></tr>\n",
       "\t<tr><th scope=row>1305</th><td>0     </td><td>  NA  </td><td>male  </td><td>3     </td></tr>\n",
       "\t<tr><th scope=row>1306</th><td>1     </td><td>39.0  </td><td>female</td><td>1     </td></tr>\n",
       "\t<tr><th scope=row>1307</th><td>0     </td><td>38.5  </td><td>male  </td><td>3     </td></tr>\n",
       "\t<tr><th scope=row>1308</th><td>0     </td><td>  NA  </td><td>male  </td><td>3     </td></tr>\n",
       "\t<tr><th scope=row>1309</th><td>0     </td><td>  NA  </td><td>male  </td><td>3     </td></tr>\n",
       "</tbody>\n",
       "</table>\n"
      ],
      "text/latex": [
       "\\begin{tabular}{r|llll}\n",
       "  & Survived & Age & Sex & Pclass\\\\\n",
       "\\hline\n",
       "\t1304 & 1      & 28.0   & female & 3     \\\\\n",
       "\t1305 & 0      &   NA   & male   & 3     \\\\\n",
       "\t1306 & 1      & 39.0   & female & 1     \\\\\n",
       "\t1307 & 0      & 38.5   & male   & 3     \\\\\n",
       "\t1308 & 0      &   NA   & male   & 3     \\\\\n",
       "\t1309 & 0      &   NA   & male   & 3     \\\\\n",
       "\\end{tabular}\n"
      ],
      "text/markdown": [
       "\n",
       "| <!--/--> | Survived | Age | Sex | Pclass |\n",
       "|---|---|---|---|---|\n",
       "| 1304 | 1      | 28.0   | female | 3      |\n",
       "| 1305 | 0      |   NA   | male   | 3      |\n",
       "| 1306 | 1      | 39.0   | female | 1      |\n",
       "| 1307 | 0      | 38.5   | male   | 3      |\n",
       "| 1308 | 0      |   NA   | male   | 3      |\n",
       "| 1309 | 0      |   NA   | male   | 3      |\n",
       "\n"
      ],
      "text/plain": [
       "     Survived Age  Sex    Pclass\n",
       "1304 1        28.0 female 3     \n",
       "1305 0          NA male   3     \n",
       "1306 1        39.0 female 1     \n",
       "1307 0        38.5 male   3     \n",
       "1308 0          NA male   3     \n",
       "1309 0          NA male   3     "
      ]
     },
     "metadata": {},
     "output_type": "display_data"
    }
   ],
   "source": [
    "tail(df_sub0)"
   ]
  },
  {
   "cell_type": "code",
   "execution_count": 12,
   "id": "49a482f4",
   "metadata": {},
   "outputs": [
    {
     "data": {
      "text/html": [
       "<ol class=list-inline>\n",
       "\t<li>22</li>\n",
       "\t<li>38</li>\n",
       "\t<li>26</li>\n",
       "\t<li>35</li>\n",
       "\t<li>&lt;NA&gt;</li>\n",
       "\t<li>54</li>\n",
       "\t<li>2</li>\n",
       "\t<li>27</li>\n",
       "\t<li>14</li>\n",
       "\t<li>4</li>\n",
       "\t<li>58</li>\n",
       "\t<li>20</li>\n",
       "\t<li>39</li>\n",
       "\t<li>55</li>\n",
       "\t<li>31</li>\n",
       "\t<li>34</li>\n",
       "\t<li>15</li>\n",
       "\t<li>28</li>\n",
       "\t<li>8</li>\n",
       "\t<li>19</li>\n",
       "\t<li>40</li>\n",
       "\t<li>66</li>\n",
       "\t<li>42</li>\n",
       "\t<li>21</li>\n",
       "\t<li>18</li>\n",
       "\t<li>3</li>\n",
       "\t<li>7</li>\n",
       "\t<li>49</li>\n",
       "\t<li>29</li>\n",
       "\t<li>65</li>\n",
       "\t<li>28.5</li>\n",
       "\t<li>5</li>\n",
       "\t<li>11</li>\n",
       "\t<li>45</li>\n",
       "\t<li>17</li>\n",
       "\t<li>32</li>\n",
       "\t<li>16</li>\n",
       "\t<li>25</li>\n",
       "\t<li>0.83</li>\n",
       "\t<li>30</li>\n",
       "\t<li>33</li>\n",
       "\t<li>23</li>\n",
       "\t<li>24</li>\n",
       "\t<li>46</li>\n",
       "\t<li>59</li>\n",
       "\t<li>71</li>\n",
       "\t<li>37</li>\n",
       "\t<li>47</li>\n",
       "\t<li>14.5</li>\n",
       "\t<li>70.5</li>\n",
       "\t<li>32.5</li>\n",
       "\t<li>12</li>\n",
       "\t<li>9</li>\n",
       "\t<li>36.5</li>\n",
       "\t<li>51</li>\n",
       "\t<li>55.5</li>\n",
       "\t<li>40.5</li>\n",
       "\t<li>44</li>\n",
       "\t<li>1</li>\n",
       "\t<li>61</li>\n",
       "\t<li>56</li>\n",
       "\t<li>50</li>\n",
       "\t<li>36</li>\n",
       "\t<li>45.5</li>\n",
       "\t<li>20.5</li>\n",
       "\t<li>62</li>\n",
       "\t<li>41</li>\n",
       "\t<li>52</li>\n",
       "\t<li>63</li>\n",
       "\t<li>23.5</li>\n",
       "\t<li>0.92</li>\n",
       "\t<li>43</li>\n",
       "\t<li>60</li>\n",
       "\t<li>10</li>\n",
       "\t<li>64</li>\n",
       "\t<li>13</li>\n",
       "\t<li>48</li>\n",
       "\t<li>0.75</li>\n",
       "\t<li>53</li>\n",
       "\t<li>57</li>\n",
       "\t<li>80</li>\n",
       "\t<li>70</li>\n",
       "\t<li>24.5</li>\n",
       "\t<li>6</li>\n",
       "\t<li>0.67</li>\n",
       "\t<li>30.5</li>\n",
       "\t<li>0.42</li>\n",
       "\t<li>34.5</li>\n",
       "\t<li>74</li>\n",
       "\t<li>22.5</li>\n",
       "\t<li>18.5</li>\n",
       "\t<li>67</li>\n",
       "\t<li>76</li>\n",
       "\t<li>26.5</li>\n",
       "\t<li>60.5</li>\n",
       "\t<li>11.5</li>\n",
       "\t<li>0.33</li>\n",
       "\t<li>0.17</li>\n",
       "\t<li>38.5</li>\n",
       "</ol>\n"
      ],
      "text/latex": [
       "\\begin{enumerate*}\n",
       "\\item 22\n",
       "\\item 38\n",
       "\\item 26\n",
       "\\item 35\n",
       "\\item <NA>\n",
       "\\item 54\n",
       "\\item 2\n",
       "\\item 27\n",
       "\\item 14\n",
       "\\item 4\n",
       "\\item 58\n",
       "\\item 20\n",
       "\\item 39\n",
       "\\item 55\n",
       "\\item 31\n",
       "\\item 34\n",
       "\\item 15\n",
       "\\item 28\n",
       "\\item 8\n",
       "\\item 19\n",
       "\\item 40\n",
       "\\item 66\n",
       "\\item 42\n",
       "\\item 21\n",
       "\\item 18\n",
       "\\item 3\n",
       "\\item 7\n",
       "\\item 49\n",
       "\\item 29\n",
       "\\item 65\n",
       "\\item 28.5\n",
       "\\item 5\n",
       "\\item 11\n",
       "\\item 45\n",
       "\\item 17\n",
       "\\item 32\n",
       "\\item 16\n",
       "\\item 25\n",
       "\\item 0.83\n",
       "\\item 30\n",
       "\\item 33\n",
       "\\item 23\n",
       "\\item 24\n",
       "\\item 46\n",
       "\\item 59\n",
       "\\item 71\n",
       "\\item 37\n",
       "\\item 47\n",
       "\\item 14.5\n",
       "\\item 70.5\n",
       "\\item 32.5\n",
       "\\item 12\n",
       "\\item 9\n",
       "\\item 36.5\n",
       "\\item 51\n",
       "\\item 55.5\n",
       "\\item 40.5\n",
       "\\item 44\n",
       "\\item 1\n",
       "\\item 61\n",
       "\\item 56\n",
       "\\item 50\n",
       "\\item 36\n",
       "\\item 45.5\n",
       "\\item 20.5\n",
       "\\item 62\n",
       "\\item 41\n",
       "\\item 52\n",
       "\\item 63\n",
       "\\item 23.5\n",
       "\\item 0.92\n",
       "\\item 43\n",
       "\\item 60\n",
       "\\item 10\n",
       "\\item 64\n",
       "\\item 13\n",
       "\\item 48\n",
       "\\item 0.75\n",
       "\\item 53\n",
       "\\item 57\n",
       "\\item 80\n",
       "\\item 70\n",
       "\\item 24.5\n",
       "\\item 6\n",
       "\\item 0.67\n",
       "\\item 30.5\n",
       "\\item 0.42\n",
       "\\item 34.5\n",
       "\\item 74\n",
       "\\item 22.5\n",
       "\\item 18.5\n",
       "\\item 67\n",
       "\\item 76\n",
       "\\item 26.5\n",
       "\\item 60.5\n",
       "\\item 11.5\n",
       "\\item 0.33\n",
       "\\item 0.17\n",
       "\\item 38.5\n",
       "\\end{enumerate*}\n"
      ],
      "text/markdown": [
       "1. 22\n",
       "2. 38\n",
       "3. 26\n",
       "4. 35\n",
       "5. &lt;NA&gt;\n",
       "6. 54\n",
       "7. 2\n",
       "8. 27\n",
       "9. 14\n",
       "10. 4\n",
       "11. 58\n",
       "12. 20\n",
       "13. 39\n",
       "14. 55\n",
       "15. 31\n",
       "16. 34\n",
       "17. 15\n",
       "18. 28\n",
       "19. 8\n",
       "20. 19\n",
       "21. 40\n",
       "22. 66\n",
       "23. 42\n",
       "24. 21\n",
       "25. 18\n",
       "26. 3\n",
       "27. 7\n",
       "28. 49\n",
       "29. 29\n",
       "30. 65\n",
       "31. 28.5\n",
       "32. 5\n",
       "33. 11\n",
       "34. 45\n",
       "35. 17\n",
       "36. 32\n",
       "37. 16\n",
       "38. 25\n",
       "39. 0.83\n",
       "40. 30\n",
       "41. 33\n",
       "42. 23\n",
       "43. 24\n",
       "44. 46\n",
       "45. 59\n",
       "46. 71\n",
       "47. 37\n",
       "48. 47\n",
       "49. 14.5\n",
       "50. 70.5\n",
       "51. 32.5\n",
       "52. 12\n",
       "53. 9\n",
       "54. 36.5\n",
       "55. 51\n",
       "56. 55.5\n",
       "57. 40.5\n",
       "58. 44\n",
       "59. 1\n",
       "60. 61\n",
       "61. 56\n",
       "62. 50\n",
       "63. 36\n",
       "64. 45.5\n",
       "65. 20.5\n",
       "66. 62\n",
       "67. 41\n",
       "68. 52\n",
       "69. 63\n",
       "70. 23.5\n",
       "71. 0.92\n",
       "72. 43\n",
       "73. 60\n",
       "74. 10\n",
       "75. 64\n",
       "76. 13\n",
       "77. 48\n",
       "78. 0.75\n",
       "79. 53\n",
       "80. 57\n",
       "81. 80\n",
       "82. 70\n",
       "83. 24.5\n",
       "84. 6\n",
       "85. 0.67\n",
       "86. 30.5\n",
       "87. 0.42\n",
       "88. 34.5\n",
       "89. 74\n",
       "90. 22.5\n",
       "91. 18.5\n",
       "92. 67\n",
       "93. 76\n",
       "94. 26.5\n",
       "95. 60.5\n",
       "96. 11.5\n",
       "97. 0.33\n",
       "98. 0.17\n",
       "99. 38.5\n",
       "\n",
       "\n"
      ],
      "text/plain": [
       " [1] 22.00 38.00 26.00 35.00    NA 54.00  2.00 27.00 14.00  4.00 58.00 20.00\n",
       "[13] 39.00 55.00 31.00 34.00 15.00 28.00  8.00 19.00 40.00 66.00 42.00 21.00\n",
       "[25] 18.00  3.00  7.00 49.00 29.00 65.00 28.50  5.00 11.00 45.00 17.00 32.00\n",
       "[37] 16.00 25.00  0.83 30.00 33.00 23.00 24.00 46.00 59.00 71.00 37.00 47.00\n",
       "[49] 14.50 70.50 32.50 12.00  9.00 36.50 51.00 55.50 40.50 44.00  1.00 61.00\n",
       "[61] 56.00 50.00 36.00 45.50 20.50 62.00 41.00 52.00 63.00 23.50  0.92 43.00\n",
       "[73] 60.00 10.00 64.00 13.00 48.00  0.75 53.00 57.00 80.00 70.00 24.50  6.00\n",
       "[85]  0.67 30.50  0.42 34.50 74.00 22.50 18.50 67.00 76.00 26.50 60.50 11.50\n",
       "[97]  0.33  0.17 38.50"
      ]
     },
     "metadata": {},
     "output_type": "display_data"
    }
   ],
   "source": [
    "unique(Age)"
   ]
  },
  {
   "cell_type": "code",
   "execution_count": 11,
   "id": "0a0c050c",
   "metadata": {},
   "outputs": [
    {
     "data": {
      "text/html": [
       "<ol class=list-inline>\n",
       "\t<li>3</li>\n",
       "\t<li>1</li>\n",
       "\t<li>2</li>\n",
       "</ol>\n"
      ],
      "text/latex": [
       "\\begin{enumerate*}\n",
       "\\item 3\n",
       "\\item 1\n",
       "\\item 2\n",
       "\\end{enumerate*}\n"
      ],
      "text/markdown": [
       "1. 3\n",
       "2. 1\n",
       "3. 2\n",
       "\n",
       "\n"
      ],
      "text/plain": [
       "[1] 3 1 2"
      ]
     },
     "metadata": {},
     "output_type": "display_data"
    }
   ],
   "source": [
    "unique(df_sub0$Pclass)"
   ]
  },
  {
   "cell_type": "code",
   "execution_count": 12,
   "id": "abc9a2e1",
   "metadata": {},
   "outputs": [
    {
     "data": {
      "text/html": [
       "<ol class=list-inline>\n",
       "\t<li>0</li>\n",
       "\t<li>1</li>\n",
       "</ol>\n"
      ],
      "text/latex": [
       "\\begin{enumerate*}\n",
       "\\item 0\n",
       "\\item 1\n",
       "\\end{enumerate*}\n"
      ],
      "text/markdown": [
       "1. 0\n",
       "2. 1\n",
       "\n",
       "\n"
      ],
      "text/plain": [
       "[1] 0 1"
      ]
     },
     "metadata": {},
     "output_type": "display_data"
    }
   ],
   "source": [
    "unique(df_sub0$Survived)"
   ]
  },
  {
   "cell_type": "markdown",
   "id": "105e13e0",
   "metadata": {},
   "source": [
    "#### Suppression des valeurs manquantes N/A"
   ]
  },
  {
   "cell_type": "code",
   "execution_count": 13,
   "id": "c882de91",
   "metadata": {},
   "outputs": [],
   "source": [
    "df_sub0 <- df_sub0[!(rowSums(is.na(df_sub0))),]"
   ]
  },
  {
   "cell_type": "markdown",
   "id": "80301ebf",
   "metadata": {},
   "source": [
    "Vérification de présence de valeurs manquantes"
   ]
  },
  {
   "cell_type": "code",
   "execution_count": 14,
   "id": "4ccb2910",
   "metadata": {},
   "outputs": [
    {
     "data": {
      "text/html": [
       "<ol class=list-inline>\n",
       "\t<li>22</li>\n",
       "\t<li>38</li>\n",
       "\t<li>26</li>\n",
       "\t<li>35</li>\n",
       "\t<li>54</li>\n",
       "\t<li>2</li>\n",
       "\t<li>27</li>\n",
       "\t<li>14</li>\n",
       "\t<li>4</li>\n",
       "\t<li>58</li>\n",
       "\t<li>20</li>\n",
       "\t<li>39</li>\n",
       "\t<li>55</li>\n",
       "\t<li>31</li>\n",
       "\t<li>34</li>\n",
       "\t<li>15</li>\n",
       "\t<li>28</li>\n",
       "\t<li>8</li>\n",
       "\t<li>19</li>\n",
       "\t<li>40</li>\n",
       "\t<li>66</li>\n",
       "\t<li>42</li>\n",
       "\t<li>21</li>\n",
       "\t<li>18</li>\n",
       "\t<li>3</li>\n",
       "\t<li>7</li>\n",
       "\t<li>49</li>\n",
       "\t<li>29</li>\n",
       "\t<li>65</li>\n",
       "\t<li>28.5</li>\n",
       "\t<li>5</li>\n",
       "\t<li>11</li>\n",
       "\t<li>45</li>\n",
       "\t<li>17</li>\n",
       "\t<li>32</li>\n",
       "\t<li>16</li>\n",
       "\t<li>25</li>\n",
       "\t<li>0.83</li>\n",
       "\t<li>30</li>\n",
       "\t<li>33</li>\n",
       "\t<li>23</li>\n",
       "\t<li>24</li>\n",
       "\t<li>46</li>\n",
       "\t<li>59</li>\n",
       "\t<li>71</li>\n",
       "\t<li>37</li>\n",
       "\t<li>47</li>\n",
       "\t<li>14.5</li>\n",
       "\t<li>70.5</li>\n",
       "\t<li>32.5</li>\n",
       "\t<li>12</li>\n",
       "\t<li>9</li>\n",
       "\t<li>36.5</li>\n",
       "\t<li>51</li>\n",
       "\t<li>55.5</li>\n",
       "\t<li>40.5</li>\n",
       "\t<li>44</li>\n",
       "\t<li>1</li>\n",
       "\t<li>61</li>\n",
       "\t<li>56</li>\n",
       "\t<li>50</li>\n",
       "\t<li>36</li>\n",
       "\t<li>45.5</li>\n",
       "\t<li>20.5</li>\n",
       "\t<li>62</li>\n",
       "\t<li>41</li>\n",
       "\t<li>52</li>\n",
       "\t<li>63</li>\n",
       "\t<li>23.5</li>\n",
       "\t<li>0.92</li>\n",
       "\t<li>43</li>\n",
       "\t<li>60</li>\n",
       "\t<li>10</li>\n",
       "\t<li>64</li>\n",
       "\t<li>13</li>\n",
       "\t<li>48</li>\n",
       "\t<li>0.75</li>\n",
       "\t<li>53</li>\n",
       "\t<li>57</li>\n",
       "\t<li>80</li>\n",
       "\t<li>70</li>\n",
       "\t<li>24.5</li>\n",
       "\t<li>6</li>\n",
       "\t<li>0.67</li>\n",
       "\t<li>30.5</li>\n",
       "\t<li>0.42</li>\n",
       "\t<li>34.5</li>\n",
       "\t<li>74</li>\n",
       "\t<li>22.5</li>\n",
       "\t<li>18.5</li>\n",
       "\t<li>67</li>\n",
       "\t<li>76</li>\n",
       "\t<li>26.5</li>\n",
       "\t<li>60.5</li>\n",
       "\t<li>11.5</li>\n",
       "\t<li>0.33</li>\n",
       "\t<li>0.17</li>\n",
       "\t<li>38.5</li>\n",
       "</ol>\n"
      ],
      "text/latex": [
       "\\begin{enumerate*}\n",
       "\\item 22\n",
       "\\item 38\n",
       "\\item 26\n",
       "\\item 35\n",
       "\\item 54\n",
       "\\item 2\n",
       "\\item 27\n",
       "\\item 14\n",
       "\\item 4\n",
       "\\item 58\n",
       "\\item 20\n",
       "\\item 39\n",
       "\\item 55\n",
       "\\item 31\n",
       "\\item 34\n",
       "\\item 15\n",
       "\\item 28\n",
       "\\item 8\n",
       "\\item 19\n",
       "\\item 40\n",
       "\\item 66\n",
       "\\item 42\n",
       "\\item 21\n",
       "\\item 18\n",
       "\\item 3\n",
       "\\item 7\n",
       "\\item 49\n",
       "\\item 29\n",
       "\\item 65\n",
       "\\item 28.5\n",
       "\\item 5\n",
       "\\item 11\n",
       "\\item 45\n",
       "\\item 17\n",
       "\\item 32\n",
       "\\item 16\n",
       "\\item 25\n",
       "\\item 0.83\n",
       "\\item 30\n",
       "\\item 33\n",
       "\\item 23\n",
       "\\item 24\n",
       "\\item 46\n",
       "\\item 59\n",
       "\\item 71\n",
       "\\item 37\n",
       "\\item 47\n",
       "\\item 14.5\n",
       "\\item 70.5\n",
       "\\item 32.5\n",
       "\\item 12\n",
       "\\item 9\n",
       "\\item 36.5\n",
       "\\item 51\n",
       "\\item 55.5\n",
       "\\item 40.5\n",
       "\\item 44\n",
       "\\item 1\n",
       "\\item 61\n",
       "\\item 56\n",
       "\\item 50\n",
       "\\item 36\n",
       "\\item 45.5\n",
       "\\item 20.5\n",
       "\\item 62\n",
       "\\item 41\n",
       "\\item 52\n",
       "\\item 63\n",
       "\\item 23.5\n",
       "\\item 0.92\n",
       "\\item 43\n",
       "\\item 60\n",
       "\\item 10\n",
       "\\item 64\n",
       "\\item 13\n",
       "\\item 48\n",
       "\\item 0.75\n",
       "\\item 53\n",
       "\\item 57\n",
       "\\item 80\n",
       "\\item 70\n",
       "\\item 24.5\n",
       "\\item 6\n",
       "\\item 0.67\n",
       "\\item 30.5\n",
       "\\item 0.42\n",
       "\\item 34.5\n",
       "\\item 74\n",
       "\\item 22.5\n",
       "\\item 18.5\n",
       "\\item 67\n",
       "\\item 76\n",
       "\\item 26.5\n",
       "\\item 60.5\n",
       "\\item 11.5\n",
       "\\item 0.33\n",
       "\\item 0.17\n",
       "\\item 38.5\n",
       "\\end{enumerate*}\n"
      ],
      "text/markdown": [
       "1. 22\n",
       "2. 38\n",
       "3. 26\n",
       "4. 35\n",
       "5. 54\n",
       "6. 2\n",
       "7. 27\n",
       "8. 14\n",
       "9. 4\n",
       "10. 58\n",
       "11. 20\n",
       "12. 39\n",
       "13. 55\n",
       "14. 31\n",
       "15. 34\n",
       "16. 15\n",
       "17. 28\n",
       "18. 8\n",
       "19. 19\n",
       "20. 40\n",
       "21. 66\n",
       "22. 42\n",
       "23. 21\n",
       "24. 18\n",
       "25. 3\n",
       "26. 7\n",
       "27. 49\n",
       "28. 29\n",
       "29. 65\n",
       "30. 28.5\n",
       "31. 5\n",
       "32. 11\n",
       "33. 45\n",
       "34. 17\n",
       "35. 32\n",
       "36. 16\n",
       "37. 25\n",
       "38. 0.83\n",
       "39. 30\n",
       "40. 33\n",
       "41. 23\n",
       "42. 24\n",
       "43. 46\n",
       "44. 59\n",
       "45. 71\n",
       "46. 37\n",
       "47. 47\n",
       "48. 14.5\n",
       "49. 70.5\n",
       "50. 32.5\n",
       "51. 12\n",
       "52. 9\n",
       "53. 36.5\n",
       "54. 51\n",
       "55. 55.5\n",
       "56. 40.5\n",
       "57. 44\n",
       "58. 1\n",
       "59. 61\n",
       "60. 56\n",
       "61. 50\n",
       "62. 36\n",
       "63. 45.5\n",
       "64. 20.5\n",
       "65. 62\n",
       "66. 41\n",
       "67. 52\n",
       "68. 63\n",
       "69. 23.5\n",
       "70. 0.92\n",
       "71. 43\n",
       "72. 60\n",
       "73. 10\n",
       "74. 64\n",
       "75. 13\n",
       "76. 48\n",
       "77. 0.75\n",
       "78. 53\n",
       "79. 57\n",
       "80. 80\n",
       "81. 70\n",
       "82. 24.5\n",
       "83. 6\n",
       "84. 0.67\n",
       "85. 30.5\n",
       "86. 0.42\n",
       "87. 34.5\n",
       "88. 74\n",
       "89. 22.5\n",
       "90. 18.5\n",
       "91. 67\n",
       "92. 76\n",
       "93. 26.5\n",
       "94. 60.5\n",
       "95. 11.5\n",
       "96. 0.33\n",
       "97. 0.17\n",
       "98. 38.5\n",
       "\n",
       "\n"
      ],
      "text/plain": [
       " [1] 22.00 38.00 26.00 35.00 54.00  2.00 27.00 14.00  4.00 58.00 20.00 39.00\n",
       "[13] 55.00 31.00 34.00 15.00 28.00  8.00 19.00 40.00 66.00 42.00 21.00 18.00\n",
       "[25]  3.00  7.00 49.00 29.00 65.00 28.50  5.00 11.00 45.00 17.00 32.00 16.00\n",
       "[37] 25.00  0.83 30.00 33.00 23.00 24.00 46.00 59.00 71.00 37.00 47.00 14.50\n",
       "[49] 70.50 32.50 12.00  9.00 36.50 51.00 55.50 40.50 44.00  1.00 61.00 56.00\n",
       "[61] 50.00 36.00 45.50 20.50 62.00 41.00 52.00 63.00 23.50  0.92 43.00 60.00\n",
       "[73] 10.00 64.00 13.00 48.00  0.75 53.00 57.00 80.00 70.00 24.50  6.00  0.67\n",
       "[85] 30.50  0.42 34.50 74.00 22.50 18.50 67.00 76.00 26.50 60.50 11.50  0.33\n",
       "[97]  0.17 38.50"
      ]
     },
     "metadata": {},
     "output_type": "display_data"
    }
   ],
   "source": [
    "unique(df_sub0$Age)"
   ]
  },
  {
   "cell_type": "markdown",
   "id": "a39ce10c",
   "metadata": {},
   "source": [
    "**valeurs manquantes supprimées**"
   ]
  },
  {
   "cell_type": "markdown",
   "id": "ad0c49f6",
   "metadata": {},
   "source": [
    "#### Type de la variable Qualitative Sex"
   ]
  },
  {
   "cell_type": "code",
   "execution_count": 78,
   "id": "28f67068",
   "metadata": {},
   "outputs": [
    {
     "data": {
      "text/html": [
       "'factor'"
      ],
      "text/latex": [
       "'factor'"
      ],
      "text/markdown": [
       "'factor'"
      ],
      "text/plain": [
       "[1] \"factor\""
      ]
     },
     "metadata": {},
     "output_type": "display_data"
    }
   ],
   "source": [
    "class(df_sub0$Sex)"
   ]
  },
  {
   "cell_type": "markdown",
   "id": "8d78604c",
   "metadata": {},
   "source": [
    "**Copie du dataset df_sub0 dans la varibles df_sub1 et decodage des varibles qualitatives Survived, Pclass afin d'en tirer des informations dans le sumary(df_sub1)**"
   ]
  },
  {
   "cell_type": "markdown",
   "id": "b6a97785",
   "metadata": {},
   "source": [
    "- Copie"
   ]
  },
  {
   "cell_type": "code",
   "execution_count": 15,
   "id": "8d4f7c68",
   "metadata": {},
   "outputs": [
    {
     "data": {
      "text/html": [
       "<table>\n",
       "<thead><tr><th></th><th scope=col>Survived</th><th scope=col>Age</th><th scope=col>Sex</th><th scope=col>Pclass</th></tr></thead>\n",
       "<tbody>\n",
       "\t<tr><th scope=row>1</th><td>0     </td><td>22    </td><td>male  </td><td>3     </td></tr>\n",
       "\t<tr><th scope=row>2</th><td>1     </td><td>38    </td><td>female</td><td>1     </td></tr>\n",
       "\t<tr><th scope=row>3</th><td>1     </td><td>26    </td><td>female</td><td>3     </td></tr>\n",
       "\t<tr><th scope=row>4</th><td>1     </td><td>35    </td><td>female</td><td>1     </td></tr>\n",
       "\t<tr><th scope=row>5</th><td>0     </td><td>35    </td><td>male  </td><td>3     </td></tr>\n",
       "\t<tr><th scope=row>7</th><td>0     </td><td>54    </td><td>male  </td><td>1     </td></tr>\n",
       "</tbody>\n",
       "</table>\n"
      ],
      "text/latex": [
       "\\begin{tabular}{r|llll}\n",
       "  & Survived & Age & Sex & Pclass\\\\\n",
       "\\hline\n",
       "\t1 & 0      & 22     & male   & 3     \\\\\n",
       "\t2 & 1      & 38     & female & 1     \\\\\n",
       "\t3 & 1      & 26     & female & 3     \\\\\n",
       "\t4 & 1      & 35     & female & 1     \\\\\n",
       "\t5 & 0      & 35     & male   & 3     \\\\\n",
       "\t7 & 0      & 54     & male   & 1     \\\\\n",
       "\\end{tabular}\n"
      ],
      "text/markdown": [
       "\n",
       "| <!--/--> | Survived | Age | Sex | Pclass |\n",
       "|---|---|---|---|---|\n",
       "| 1 | 0      | 22     | male   | 3      |\n",
       "| 2 | 1      | 38     | female | 1      |\n",
       "| 3 | 1      | 26     | female | 3      |\n",
       "| 4 | 1      | 35     | female | 1      |\n",
       "| 5 | 0      | 35     | male   | 3      |\n",
       "| 7 | 0      | 54     | male   | 1      |\n",
       "\n"
      ],
      "text/plain": [
       "  Survived Age Sex    Pclass\n",
       "1 0        22  male   3     \n",
       "2 1        38  female 1     \n",
       "3 1        26  female 3     \n",
       "4 1        35  female 1     \n",
       "5 0        35  male   3     \n",
       "7 0        54  male   1     "
      ]
     },
     "metadata": {},
     "output_type": "display_data"
    }
   ],
   "source": [
    "df_sub1 <- df_sub0\n",
    "head(df_sub1)"
   ]
  },
  {
   "cell_type": "markdown",
   "id": "cc7d939f",
   "metadata": {},
   "source": [
    "- Décodage"
   ]
  },
  {
   "cell_type": "code",
   "execution_count": 16,
   "id": "42e611a5",
   "metadata": {},
   "outputs": [],
   "source": [
    "df_sub1$Survived[df_sub1$Survived==1]<-\"Survivant\"\n",
    "df_sub1$Survived[df_sub1$Survived==0]<-\"Mort\"\n",
    "df_sub1$Pclass[df_sub1$Pclass==1]<-\"1ère class\"\n",
    "df_sub1$Pclass[df_sub1$Pclass==2]<-\"2ième class\"\n",
    "df_sub1$Pclass[df_sub1$Pclass==3]<-\"3ième class\""
   ]
  },
  {
   "cell_type": "code",
   "execution_count": 17,
   "id": "47204e1d",
   "metadata": {},
   "outputs": [
    {
     "data": {
      "text/html": [
       "<table>\n",
       "<thead><tr><th></th><th scope=col>Survived</th><th scope=col>Age</th><th scope=col>Sex</th><th scope=col>Pclass</th></tr></thead>\n",
       "<tbody>\n",
       "\t<tr><th scope=row>1</th><td>Mort       </td><td>22         </td><td>male       </td><td>3ième class</td></tr>\n",
       "\t<tr><th scope=row>2</th><td>Survivant  </td><td>38         </td><td>female     </td><td>1ère class </td></tr>\n",
       "\t<tr><th scope=row>3</th><td>Survivant  </td><td>26         </td><td>female     </td><td>3ième class</td></tr>\n",
       "\t<tr><th scope=row>4</th><td>Survivant  </td><td>35         </td><td>female     </td><td>1ère class </td></tr>\n",
       "\t<tr><th scope=row>5</th><td>Mort       </td><td>35         </td><td>male       </td><td>3ième class</td></tr>\n",
       "\t<tr><th scope=row>7</th><td>Mort       </td><td>54         </td><td>male       </td><td>1ère class </td></tr>\n",
       "</tbody>\n",
       "</table>\n"
      ],
      "text/latex": [
       "\\begin{tabular}{r|llll}\n",
       "  & Survived & Age & Sex & Pclass\\\\\n",
       "\\hline\n",
       "\t1 & Mort        & 22          & male        & 3ième class\\\\\n",
       "\t2 & Survivant   & 38          & female      & 1ère class \\\\\n",
       "\t3 & Survivant   & 26          & female      & 3ième class\\\\\n",
       "\t4 & Survivant   & 35          & female      & 1ère class \\\\\n",
       "\t5 & Mort        & 35          & male        & 3ième class\\\\\n",
       "\t7 & Mort        & 54          & male        & 1ère class \\\\\n",
       "\\end{tabular}\n"
      ],
      "text/markdown": [
       "\n",
       "| <!--/--> | Survived | Age | Sex | Pclass |\n",
       "|---|---|---|---|---|\n",
       "| 1 | Mort        | 22          | male        | 3ième class |\n",
       "| 2 | Survivant   | 38          | female      | 1ère class  |\n",
       "| 3 | Survivant   | 26          | female      | 3ième class |\n",
       "| 4 | Survivant   | 35          | female      | 1ère class  |\n",
       "| 5 | Mort        | 35          | male        | 3ième class |\n",
       "| 7 | Mort        | 54          | male        | 1ère class  |\n",
       "\n"
      ],
      "text/plain": [
       "  Survived  Age Sex    Pclass     \n",
       "1 Mort      22  male   3ième class\n",
       "2 Survivant 38  female 1ère class \n",
       "3 Survivant 26  female 3ième class\n",
       "4 Survivant 35  female 1ère class \n",
       "5 Mort      35  male   3ième class\n",
       "7 Mort      54  male   1ère class "
      ]
     },
     "metadata": {},
     "output_type": "display_data"
    }
   ],
   "source": [
    "head(df_sub1)"
   ]
  },
  {
   "cell_type": "markdown",
   "id": "60cc1159",
   "metadata": {},
   "source": [
    "- Conversion de Survived et Pclass en factor "
   ]
  },
  {
   "cell_type": "code",
   "execution_count": 18,
   "id": "249701f2",
   "metadata": {},
   "outputs": [],
   "source": [
    "df_sub1$Survived <- factor(df_sub1$Survived)\n",
    "df_sub1$Pclass <- factor(df_sub1$Pclass)"
   ]
  },
  {
   "cell_type": "code",
   "execution_count": 19,
   "id": "16e7b394",
   "metadata": {},
   "outputs": [
    {
     "data": {
      "text/plain": [
       "      Survived        Age            Sex              Pclass   \n",
       " Mort     :629   Min.   : 0.17   female:388   1ère class :284  \n",
       " Survivant:417   1st Qu.:21.00   male  :658   2ième class:261  \n",
       "                 Median :28.00                3ième class:501  \n",
       "                 Mean   :29.88                                 \n",
       "                 3rd Qu.:39.00                                 \n",
       "                 Max.   :80.00                                 "
      ]
     },
     "metadata": {},
     "output_type": "display_data"
    }
   ],
   "source": [
    "summary(df_sub1)"
   ]
  },
  {
   "cell_type": "markdown",
   "id": "80c06c9b",
   "metadata": {},
   "source": [
    "# II.) Résumé numérique et graphiques\n",
    "\n",
    "## 1.) Résumé numérique\n",
    "\n",
    "Utilisation du dataframe df_sub0"
   ]
  },
  {
   "cell_type": "markdown",
   "id": "b4bfc1bf",
   "metadata": {},
   "source": [
    "#### Moyenne d'Age Observé : ~ 30 ans"
   ]
  },
  {
   "cell_type": "code",
   "execution_count": 22,
   "id": "a117cb90",
   "metadata": {},
   "outputs": [
    {
     "data": {
      "text/html": [
       "29.881137667304"
      ],
      "text/latex": [
       "29.881137667304"
      ],
      "text/markdown": [
       "29.881137667304"
      ],
      "text/plain": [
       "[1] 29.88114"
      ]
     },
     "metadata": {},
     "output_type": "display_data"
    }
   ],
   "source": [
    "mean(df_sub0$Age)"
   ]
  },
  {
   "cell_type": "markdown",
   "id": "d29af105",
   "metadata": {},
   "source": [
    "#### Ecart-type d'Age Observé : 14.4134932112713"
   ]
  },
  {
   "cell_type": "code",
   "execution_count": 23,
   "id": "daa024fa",
   "metadata": {},
   "outputs": [
    {
     "data": {
      "text/html": [
       "14.4134932112713"
      ],
      "text/latex": [
       "14.4134932112713"
      ],
      "text/markdown": [
       "14.4134932112713"
      ],
      "text/plain": [
       "[1] 14.41349"
      ]
     },
     "metadata": {},
     "output_type": "display_data"
    }
   ],
   "source": [
    "sd(df_sub0$Age, na.rm = TRUE)"
   ]
  },
  {
   "cell_type": "markdown",
   "id": "47c9ce16",
   "metadata": {},
   "source": [
    "#### Median d'Age Observé : 28"
   ]
  },
  {
   "cell_type": "code",
   "execution_count": 24,
   "id": "4048c6be",
   "metadata": {},
   "outputs": [
    {
     "data": {
      "text/html": [
       "28"
      ],
      "text/latex": [
       "28"
      ],
      "text/markdown": [
       "28"
      ],
      "text/plain": [
       "[1] 28"
      ]
     },
     "metadata": {},
     "output_type": "display_data"
    }
   ],
   "source": [
    "median(df_sub0$Age, na.rm = TRUE)"
   ]
  },
  {
   "cell_type": "markdown",
   "id": "e4fc66a6",
   "metadata": {},
   "source": [
    "### Tableau d'effectifs"
   ]
  },
  {
   "cell_type": "markdown",
   "id": "222a6230",
   "metadata": {},
   "source": [
    "- Nombre d'hommes et femmes présent.e.s dans le Titanic"
   ]
  },
  {
   "cell_type": "code",
   "execution_count": 25,
   "id": "f3957909",
   "metadata": {},
   "outputs": [
    {
     "data": {
      "text/plain": [
       "Sex\n",
       "female   male \n",
       "   466    843 "
      ]
     },
     "metadata": {},
     "output_type": "display_data"
    }
   ],
   "source": [
    "effecSex <- table(Sex)\n",
    "effecSex"
   ]
  },
  {
   "cell_type": "markdown",
   "id": "4d6663ec",
   "metadata": {},
   "source": [
    "- Nombre de survivant.e.s et mort.e.s dans le Titanic"
   ]
  },
  {
   "cell_type": "code",
   "execution_count": 26,
   "id": "75820183",
   "metadata": {},
   "outputs": [
    {
     "data": {
      "text/plain": [
       "Survived\n",
       "  0   1 \n",
       "815 494 "
      ]
     },
     "metadata": {},
     "output_type": "display_data"
    }
   ],
   "source": [
    "effecSurv <- table(Survived)\n",
    "effecSurv"
   ]
  },
  {
   "cell_type": "markdown",
   "id": "b655df1d",
   "metadata": {},
   "source": [
    "- Nombre de passagers par class présent dans le Titanic"
   ]
  },
  {
   "cell_type": "code",
   "execution_count": 27,
   "id": "305b3bd3",
   "metadata": {},
   "outputs": [
    {
     "data": {
      "text/plain": [
       "Pclass\n",
       "  1   2   3 \n",
       "323 277 709 "
      ]
     },
     "metadata": {},
     "output_type": "display_data"
    }
   ],
   "source": [
    "effecPclass <- table(Pclass)\n",
    "effecPclass"
   ]
  },
  {
   "cell_type": "markdown",
   "id": "29c204f1",
   "metadata": {},
   "source": [
    "### Tableau  d'effectis en pourcentage"
   ]
  },
  {
   "cell_type": "code",
   "execution_count": 28,
   "id": "53af4a7a",
   "metadata": {},
   "outputs": [],
   "source": [
    "# Survecu\n",
    "freqSurv <- prop.table(effecSurv)"
   ]
  },
  {
   "cell_type": "code",
   "execution_count": 29,
   "id": "b237bd6b",
   "metadata": {},
   "outputs": [
    {
     "data": {
      "text/plain": [
       "Survived\n",
       "       0        1 \n",
       "62.26127 37.73873 "
      ]
     },
     "metadata": {},
     "output_type": "display_data"
    }
   ],
   "source": [
    "pSurv <-freqSurv * 100\n",
    "pSurv"
   ]
  },
  {
   "cell_type": "markdown",
   "id": "81d4826b",
   "metadata": {},
   "source": [
    "### Tableau de contingence"
   ]
  },
  {
   "cell_type": "code",
   "execution_count": 30,
   "id": "1d76f967",
   "metadata": {},
   "outputs": [],
   "source": [
    "Conting1 <- table(Survived, Sex)\n",
    "Conting2 <- table(Pclass, Survived)"
   ]
  },
  {
   "cell_type": "code",
   "execution_count": 52,
   "id": "7453ab79",
   "metadata": {},
   "outputs": [
    {
     "data": {
      "text/plain": [
       "           Sex\n",
       "Survived    female male\n",
       "  Mort          81  734\n",
       "  Survivant    385  109"
      ]
     },
     "metadata": {},
     "output_type": "display_data"
    }
   ],
   "source": [
    "Conting1"
   ]
  },
  {
   "cell_type": "markdown",
   "id": "36845f85",
   "metadata": {},
   "source": [
    "#### Observation"
   ]
  },
  {
   "cell_type": "markdown",
   "id": "7e2c5f14",
   "metadata": {},
   "source": [
    "On obserque que les femmes ont plus survécu que les hommes dans le Titanic. Donc y'a eu pus de morts du coté des hommes"
   ]
  },
  {
   "cell_type": "code",
   "execution_count": 31,
   "id": "bb65cd36",
   "metadata": {},
   "outputs": [
    {
     "data": {
      "text/plain": [
       "        Pclass\n",
       "Survived   1   2   3\n",
       "       0 137 160 518\n",
       "       1 186 117 191"
      ]
     },
     "metadata": {},
     "output_type": "display_data"
    }
   ],
   "source": [
    "#row.names(Conting2)<-c(\"1st class\",\"2nd class\",\"3rd class\")\n",
    "t(Conting2)"
   ]
  },
  {
   "cell_type": "markdown",
   "id": "7da2778f",
   "metadata": {},
   "source": [
    "### tableau de contingence des proportions"
   ]
  },
  {
   "cell_type": "code",
   "execution_count": 32,
   "id": "64a08ee3",
   "metadata": {},
   "outputs": [
    {
     "data": {
      "text/plain": [
       "      Survived\n",
       "Pclass         0         1\n",
       "     1 0.4241486 0.5758514\n",
       "     2 0.5776173 0.4223827\n",
       "     3 0.7306065 0.2693935"
      ]
     },
     "metadata": {},
     "output_type": "display_data"
    }
   ],
   "source": [
    "Conting2percent <- Conting2/apply(Conting2,1,sum)\n",
    "Conting2percent"
   ]
  },
  {
   "cell_type": "markdown",
   "id": "27f3d3d0",
   "metadata": {},
   "source": [
    "#### Observation\n"
   ]
  },
  {
   "cell_type": "markdown",
   "id": "d81cd2da",
   "metadata": {},
   "source": [
    "- En class 1 on a plus de survivants que de morts\n",
    "- En class 2 on a plus de morts que de survivants\n",
    "- En class 3 on a plus de morts que de survivants"
   ]
  },
  {
   "cell_type": "markdown",
   "id": "88e57589",
   "metadata": {},
   "source": [
    "## 2.) Graphiques \n"
   ]
  },
  {
   "cell_type": "markdown",
   "id": "aab034d5",
   "metadata": {},
   "source": [
    "**- Histogramme des âges présent dans le Titanic**"
   ]
  },
  {
   "cell_type": "code",
   "execution_count": 82,
   "id": "3d9e8bed",
   "metadata": {},
   "outputs": [
    {
     "data": {
      "image/png": "[encoded data removed]",
      "text/plain": [
       "Plot with title \"Effectif des ages présent dans le Titanic\""
      ]
     },
     "metadata": {},
     "output_type": "display_data"
    }
   ],
   "source": [
    "hist(Age, main = \"Effectif des âges présent dans le Titanic\", ylab=\"Effectif\",  col = \"gray\")"
   ]
  },
  {
   "cell_type": "markdown",
   "id": "b129b8fb",
   "metadata": {},
   "source": [
    "### Observation"
   ]
  },
  {
   "cell_type": "markdown",
   "id": "c5d8cd9e",
   "metadata": {},
   "source": [
    "les passagers âgés entre 20 ans et 30 ans étaint plus nombreux dans le Titanic "
   ]
  },
  {
   "cell_type": "markdown",
   "id": "50d29803",
   "metadata": {},
   "source": [
    "**- Répresenation graphiques du nombre de femmes et hommes présent dans le titanic**"
   ]
  },
  {
   "cell_type": "code",
   "execution_count": 61,
   "id": "c69b7b0b",
   "metadata": {},
   "outputs": [
    {
     "data": {
      "image/png": "[encoded data removed]",
      "text/plain": [
       "Plot with title \"Nombre d'hommes et femmes\""
      ]
     },
     "metadata": {},
     "output_type": "display_data"
    }
   ],
   "source": [
    "barplot(table(Sex), main = \"Nombre d'hommes et femmes\", col =\"blue\",ylab = \"Effectif\")"
   ]
  },
  {
   "cell_type": "markdown",
   "id": "43423aeb",
   "metadata": {},
   "source": [
    "### Observation"
   ]
  },
  {
   "cell_type": "markdown",
   "id": "d98a08a6",
   "metadata": {},
   "source": [
    "D'après ce graphique, les hommes étaint plus nombreux que les femmes"
   ]
  },
  {
   "cell_type": "markdown",
   "id": "4c34d684",
   "metadata": {},
   "source": [
    "#### - Répresenation graphiques du nombre de survivants et de morts"
   ]
  },
  {
   "cell_type": "code",
   "execution_count": 21,
   "id": "f95e3b73",
   "metadata": {},
   "outputs": [
    {
     "data": {
      "image/png": "[encoded data removed]",
      "text/plain": [
       "Plot with title \"Nombre de morts et survivants\""
      ]
     },
     "metadata": {},
     "output_type": "display_data"
    }
   ],
   "source": [
    "barplot(table(df_sub1$Survived), main = \"Nombre de morts et survivants\", col =\"green\",ylab = \"Effectif\")\n"
   ]
  },
  {
   "cell_type": "markdown",
   "id": "58c28fda",
   "metadata": {},
   "source": [
    "### Observation"
   ]
  },
  {
   "cell_type": "markdown",
   "id": "fcda15a3",
   "metadata": {},
   "source": [
    "Comme dit dans les observations précédentes à la vu des tableaux de contingences, on note plus de morts que de survivants dans le Titanic, ce qui est une réalité."
   ]
  },
  {
   "cell_type": "markdown",
   "id": "5ae6fb8c",
   "metadata": {},
   "source": [
    "#### - Répresenation graphiques du nombre de passagers par classe"
   ]
  },
  {
   "cell_type": "code",
   "execution_count": 70,
   "id": "db0b855c",
   "metadata": {},
   "outputs": [
    {
     "data": {
      "image/png": "[encoded data removed]",
      "text/plain": [
       "Plot with title \"Nombre de passagers par classe\""
      ]
     },
     "metadata": {},
     "output_type": "display_data"
    }
   ],
   "source": [
    "barplot(table(df_sub1$Pclass), main = \"Nombre de passagers par classe\", col =\"brown\",ylab = \"Effectif\")\n"
   ]
  },
  {
   "cell_type": "markdown",
   "id": "eeb4e836",
   "metadata": {},
   "source": [
    "### Observation"
   ]
  },
  {
   "cell_type": "markdown",
   "id": "d681e321",
   "metadata": {},
   "source": [
    "On observe une grande présence des passagers du Titanic dans la 3ième Class"
   ]
  },
  {
   "cell_type": "markdown",
   "id": "cddefcce",
   "metadata": {},
   "source": [
    "### - Courbe de Densité de Survived"
   ]
  },
  {
   "cell_type": "code",
   "execution_count": 84,
   "id": "a57e9d46",
   "metadata": {},
   "outputs": [
    {
     "data": {
      "image/png": "[encoded data removed]",
      "text/plain": [
       "Plot with title \"Courbe de densité des surivants et des morts du Titanic\""
      ]
     },
     "metadata": {},
     "output_type": "display_data"
    }
   ],
   "source": [
    "plot(density(Survived, na.rm = TRUE), main = \"Courbe de densité des surivants et des morts du Titanic\")"
   ]
  },
  {
   "cell_type": "markdown",
   "id": "a56075bf",
   "metadata": {},
   "source": [
    "### Observation"
   ]
  },
  {
   "cell_type": "markdown",
   "id": "38f2534e",
   "metadata": {},
   "source": [
    "Cette courbe va de pair avec le **graphique du nombre de morts et survivants**. Comme elle, elle indique plus de morts que de surivants"
   ]
  },
  {
   "cell_type": "markdown",
   "id": "c2babf29",
   "metadata": {},
   "source": [
    "### - Boîte à moustache"
   ]
  },
  {
   "cell_type": "code",
   "execution_count": 95,
   "id": "5ae35918",
   "metadata": {},
   "outputs": [
    {
     "data": {
      "image/png": "[encoded data removed]",
      "text/plain": [
       "Plot with title \"Effectif des ages présent dans le bateau titanic\""
      ]
     },
     "metadata": {},
     "output_type": "display_data"
    }
   ],
   "source": [
    "boxplot(Age, col = grey(0.8), main = \"Effectif des ages présent dans le bateau titanic\", ylab = \"Age\")\n",
    "abline(h = median(Age, na.rm = TRUE), col = \"navy\", lty = 2)\n",
    "text(1.35, median(Age, na.rm = TRUE) + 0.15, \"Médiane\", col = \"navy\")\n",
    "Q1 <- quantile(Age, probs = 0.25, na.rm = TRUE)\n",
    "abline(h = Q1, col = \"darkred\")\n",
    "text(1.35, Q1 + 0.15, \"Q1 : premier quartile\", col = \"darkred\", lty = 2)\n",
    "Q3 <- quantile(Age, probs = 0.75, na.rm = TRUE)\n",
    "abline(h = Q3, col = \"darkred\")\n",
    "text(1.35, Q3 + 0.15, \"Q3 : troisième quartile\", col = \"darkred\", lty =\n",
    "2)\n",
    "arrows(x0 = 0.7, y0 = quantile(Age, probs = 0.75, na.rm = TRUE),\n",
    "x1 = 0.7, y1 = quantile(Age, probs = 0.25, na.rm = TRUE), length\n",
    "= 0.1, code = 3)\n",
    "text(0.7, Q1 + (Q3 - Q1) / 2 + 0.15, \"a\", pos = 2)\n",
    "mtext(\"L'écart inter-quartile a contient 50 % des individus\", side = 1)\n",
    "abline(h = Q1 - 1.5 * (Q3 - Q1), col = \"darkgreen\")\n",
    "text(1.35, Q1 - 1.5 * (Q3 - Q1) + 0.15, \"Q1 -1.5 a\", col = \"darkgreen\", lty = 2)\n",
    "abline(h = Q3 + 1.5 * (Q3 - Q1), col = \"darkgreen\")\n",
    "text(1.35, Q3 + 1.5 * (Q3 - Q1) + 0.15, \"Q3 +1.5 a\", col = \"darkgreen\", lty = 2)\n"
   ]
  },
  {
   "cell_type": "markdown",
   "id": "c918cdcb",
   "metadata": {},
   "source": [
    "### Observation"
   ]
  },
  {
   "cell_type": "markdown",
   "id": "a085222d",
   "metadata": {},
   "source": [
    "Cette boîte à moustache nous réprésente graphiquement **la moyenne des âges observés qui est effectivement 30 ans**, cette valeur sera prouvée par les test ci-dessous. Et aussi d'après ce graphique on peut **conclure que la moitié des passagers étaint âgés de 20 à 40 ans, réprésentée ici par l'écart inter-quartile**"
   ]
  },
  {
   "cell_type": "markdown",
   "id": "46bbbaa8",
   "metadata": {},
   "source": [
    "# III.) Intervalle de confiance"
   ]
  },
  {
   "cell_type": "markdown",
   "id": "98732efd",
   "metadata": {},
   "source": [
    "### 1.) Sur la moyenne (TEST DE STUDENT)"
   ]
  },
  {
   "cell_type": "markdown",
   "id": "74fa74f7",
   "metadata": {},
   "source": [
    "#### Quel était l'âge moyen présent sur le Titanic ? "
   ]
  },
  {
   "cell_type": "code",
   "execution_count": 119,
   "id": "a6e43689",
   "metadata": {},
   "outputs": [
    {
     "data": {
      "text/plain": [
       "\n",
       "\tOne Sample t-test\n",
       "\n",
       "data:  Age\n",
       "t = -0.26671, df = 1045, p-value = 0.7897\n",
       "alternative hypothesis: true mean is not equal to 30\n",
       "95 percent confidence interval:\n",
       " 29.00665 30.75563\n",
       "sample estimates:\n",
       "mean of x \n",
       " 29.88114 \n"
      ]
     },
     "metadata": {},
     "output_type": "display_data"
    }
   ],
   "source": [
    "# mu : Hypothèse de moyenne présente dans le itanic : moyenne= 30 ans\n",
    "# Age : données\n",
    "t.test(Age, mu=30)"
   ]
  },
  {
   "cell_type": "markdown",
   "id": "24fc5fde",
   "metadata": {},
   "source": [
    "### Observation"
   ]
  },
  {
   "cell_type": "markdown",
   "id": "08a7e45d",
   "metadata": {},
   "source": [
    " On a un p-value > 0.05 **, alors on peut dire que la moyenne d'âge observée sur le Titanic était de 30 ans avec un intervalle de confiance à 95 % de [29.00665 30.75563]**"
   ]
  },
  {
   "cell_type": "markdown",
   "id": "e2b6b33d",
   "metadata": {},
   "source": [
    "### 2.) Sur une proportion (TEST DE PROPORTION)"
   ]
  },
  {
   "cell_type": "markdown",
   "id": "88b55685",
   "metadata": {},
   "source": [
    "  #### -     Calcul sur la proportion d'individus morts"
   ]
  },
  {
   "cell_type": "markdown",
   "id": "8ecbb421",
   "metadata": {},
   "source": [
    "**0-> Mort  et 1 -> Survécu**"
   ]
  },
  {
   "cell_type": "code",
   "execution_count": 120,
   "id": "9dfb4123",
   "metadata": {},
   "outputs": [
    {
     "data": {
      "text/html": [
       "<table>\n",
       "<tbody>\n",
       "\t<tr><th scope=row>0</th><td>815</td></tr>\n",
       "\t<tr><th scope=row>1</th><td>494</td></tr>\n",
       "</tbody>\n",
       "</table>\n"
      ],
      "text/latex": [
       "\\begin{tabular}{r|l}\n",
       "\t0 & 815\\\\\n",
       "\t1 & 494\\\\\n",
       "\\end{tabular}\n"
      ],
      "text/markdown": [
       "\n",
       "| 0 | 815 |\n",
       "| 1 | 494 |\n",
       "\n"
      ],
      "text/plain": [
       "  [,1]\n",
       "0 815 \n",
       "1 494 "
      ]
     },
     "metadata": {},
     "output_type": "display_data"
    }
   ],
   "source": [
    "tSurv <- data.matrix(table(df_sub0$Survived))\n",
    "tSurv"
   ]
  },
  {
   "cell_type": "code",
   "execution_count": 121,
   "id": "bce25a27",
   "metadata": {},
   "outputs": [
    {
     "data": {
      "text/plain": [
       "\n",
       "\t1-sample proportions test with continuity correction\n",
       "\n",
       "data:  sum(df_sub0$Survived == 0) out of length(df_sub0$Survived), null probability 0.5\n",
       "X-squared = 78.228, df = 1, p-value < 2.2e-16\n",
       "alternative hypothesis: true p is not equal to 0.5\n",
       "95 percent confidence interval:\n",
       " 0.5956447 0.6488527\n",
       "sample estimates:\n",
       "        p \n",
       "0.6226127 \n"
      ]
     },
     "metadata": {},
     "output_type": "display_data"
    }
   ],
   "source": [
    "prop.test(sum(df_sub0$Survived==0), length(df_sub0$Survived))"
   ]
  },
  {
   "cell_type": "markdown",
   "id": "678f5570",
   "metadata": {},
   "source": [
    "### Observation"
   ]
  },
  {
   "cell_type": "markdown",
   "id": "fdce569d",
   "metadata": {},
   "source": [
    "**On peut donc dire que la proportion exacte de mort avec un intervalle de confiance de 95 % est comprise entre [0.5956447 et 0.6488527] soit [59 % - 64 %]**"
   ]
  },
  {
   "cell_type": "markdown",
   "id": "652bc5f0",
   "metadata": {},
   "source": [
    "  #### -                Calcul sur la proportion d'individus ayant survécu"
   ]
  },
  {
   "cell_type": "code",
   "execution_count": 122,
   "id": "2e75fdb3",
   "metadata": {},
   "outputs": [
    {
     "data": {
      "text/html": [
       "<table>\n",
       "<tbody>\n",
       "\t<tr><th scope=row>0</th><td>815</td></tr>\n",
       "\t<tr><th scope=row>1</th><td>494</td></tr>\n",
       "</tbody>\n",
       "</table>\n"
      ],
      "text/latex": [
       "\\begin{tabular}{r|l}\n",
       "\t0 & 815\\\\\n",
       "\t1 & 494\\\\\n",
       "\\end{tabular}\n"
      ],
      "text/markdown": [
       "\n",
       "| 0 | 815 |\n",
       "| 1 | 494 |\n",
       "\n"
      ],
      "text/plain": [
       "  [,1]\n",
       "0 815 \n",
       "1 494 "
      ]
     },
     "metadata": {},
     "output_type": "display_data"
    }
   ],
   "source": [
    "# 0-> Mort  et 1 -> Survécu\n",
    "tSurv <- data.matrix(table(df_sub0$Survived))\n",
    "tSurv"
   ]
  },
  {
   "cell_type": "code",
   "execution_count": 123,
   "id": "8f18557f",
   "metadata": {},
   "outputs": [
    {
     "data": {
      "text/plain": [
       "\n",
       "\t1-sample proportions test with continuity correction\n",
       "\n",
       "data:  sum(df_sub0$Survived == 1) out of length(df_sub0$Survived), null probability 0.5\n",
       "X-squared = 78.228, df = 1, p-value < 2.2e-16\n",
       "alternative hypothesis: true p is not equal to 0.5\n",
       "95 percent confidence interval:\n",
       " 0.3511473 0.4043553\n",
       "sample estimates:\n",
       "        p \n",
       "0.3773873 \n"
      ]
     },
     "metadata": {},
     "output_type": "display_data"
    }
   ],
   "source": [
    "prop.test(sum(df_sub0$Survived==1), length(df_sub0$Survived))"
   ]
  },
  {
   "cell_type": "markdown",
   "id": "c10d71b8",
   "metadata": {},
   "source": [
    "### Observation"
   ]
  },
  {
   "cell_type": "markdown",
   "id": "9ffd07f1",
   "metadata": {},
   "source": [
    "**On peut donc dire que la proportion exacte de survivants avec un intervalle de confiance de 95 % est comprise entre [0.3511473 - 0.4043553] soit ~ [35 % - 40 %]**"
   ]
  },
  {
   "cell_type": "markdown",
   "id": "3e7a1acf",
   "metadata": {},
   "source": [
    "# IV.) Comparaison de variables"
   ]
  },
  {
   "cell_type": "markdown",
   "id": "c74402c1",
   "metadata": {},
   "source": [
    "###   - Qualitative / Qualitative ( Pclass / Survived )"
   ]
  },
  {
   "cell_type": "markdown",
   "id": "9a3f7ad7",
   "metadata": {},
   "source": [
    "##### Graphique du sort des passgers en fonction de leur classe, Utilisation de notre tableu de contingence Conting2"
   ]
  },
  {
   "cell_type": "code",
   "execution_count": 127,
   "id": "0638fdfc",
   "metadata": {},
   "outputs": [
    {
     "data": {
      "text/plain": [
       "      Survived\n",
       "Pclass   0   1\n",
       "     1 137 186\n",
       "     2 160 117\n",
       "     3 518 191"
      ]
     },
     "metadata": {},
     "output_type": "display_data"
    }
   ],
   "source": [
    "## Affiche de tableu de contingence 2 (Conting2)\n",
    "Conting2"
   ]
  },
  {
   "cell_type": "code",
   "execution_count": 144,
   "id": "6033245b",
   "metadata": {},
   "outputs": [
    {
     "data": {
      "text/plain": [
       "         Pclass\n",
       "Survived  1ère Class 2ième Class 3ième Class\n",
       "  Mort           137         160         518\n",
       "  Survécu        186         117         191"
      ]
     },
     "metadata": {},
     "output_type": "display_data"
    }
   ],
   "source": [
    "row.names(Conting2)<- c(\"1ère Class\",\"2ième Class\",\"3ième Class\")\n",
    "transpConting2 <- t(Conting2)\n",
    "row.names(transpConting2) <- c(\"Mort\",\"Survécu\")\n",
    "# Affichage de la transposé\n",
    "transpConting2"
   ]
  },
  {
   "cell_type": "code",
   "execution_count": 145,
   "id": "2f913a89",
   "metadata": {},
   "outputs": [
    {
     "data": {
      "image/png": "[encoded data removed]",
      "text/plain": [
       "Plot with title \" Sort des passgers en fonction de leur classe\""
      ]
     },
     "metadata": {},
     "output_type": "display_data"
    }
   ],
   "source": [
    "barplot(transpConting2,legend.text = T  ,xlim=c(0,5),main=\" Sort des passgers en fonction de leur classe\")"
   ]
  },
  {
   "cell_type": "markdown",
   "id": "c0a0c60f",
   "metadata": {},
   "source": [
    "### Observation "
   ]
  },
  {
   "cell_type": "markdown",
   "id": "c49394a9",
   "metadata": {},
   "source": [
    " **D'après observation de ce graphique on peut émettre l'hypothèse que la class du passager influencait sur son sort final dans le Titanic**"
   ]
  },
  {
   "cell_type": "markdown",
   "id": "52da0560",
   "metadata": {},
   "source": [
    "### (TEST DU KHI 2)\n",
    "#### Vérification de cette hypothèse par le test de KHI-2 \n",
    " H0 : les variables sont indépendantes,\n",
    " H1 : Sinon"
   ]
  },
  {
   "cell_type": "code",
   "execution_count": 146,
   "id": "84c4d654",
   "metadata": {},
   "outputs": [
    {
     "data": {
      "text/plain": [
       "\n",
       "\tPearson's Chi-squared test\n",
       "\n",
       "data:  transpConting2\n",
       "X-squared = 91.724, df = 2, p-value < 2.2e-16\n"
      ]
     },
     "metadata": {},
     "output_type": "display_data"
    }
   ],
   "source": [
    "# On passe au test notre tableau de contingence \n",
    "(khi2 <- chisq.test(transpConting2))"
   ]
  },
  {
   "cell_type": "markdown",
   "id": "e5c4616c",
   "metadata": {},
   "source": [
    "### Observation"
   ]
  },
  {
   "cell_type": "markdown",
   "id": "50ca8c4e",
   "metadata": {},
   "source": [
    " **On note un p-value < 0.05 alors l'hypothèse H0 est rejetée**"
   ]
  },
  {
   "cell_type": "markdown",
   "id": "7a9cbfcd",
   "metadata": {},
   "source": [
    "**Donc on peut bel et bien conclure que le sort final des passagers était bel et bien dépendant de leur classe, ce qui est triste et malheureux !**"
   ]
  },
  {
   "cell_type": "markdown",
   "id": "ba4a0d11",
   "metadata": {},
   "source": [
    "###   - Qualitative / Qualitative ( Sex / Survived )"
   ]
  },
  {
   "cell_type": "code",
   "execution_count": 113,
   "id": "3adb41de",
   "metadata": {},
   "outputs": [
    {
     "data": {
      "image/png": "[encoded data removed]",
      "text/plain": [
       "Plot with title \"Sort des passagers en fonction de leur Sex\""
      ]
     },
     "metadata": {},
     "output_type": "display_data"
    }
   ],
   "source": [
    "barplot(prop.table(Conting1, margin = 1) * 100,col = rainbow(2, s=1),space =c(0.05,0.4), beside = TRUE, main=\"Sort des passagers en fonction de leur Sex\",ylim = c(0, 100), xlab = \"Sex\", legend.text = c(\"Mort\", \"Survécu\"))"
   ]
  },
  {
   "cell_type": "markdown",
   "id": "1ce7d2c6",
   "metadata": {},
   "source": [
    "### Observation "
   ]
  },
  {
   "cell_type": "markdown",
   "id": "b1d8ccd0",
   "metadata": {},
   "source": [
    "**D'après observation de ce graphique on peut émettre l'hypothèse que la sex du passager influencait sur son sort final dans le Titanic**"
   ]
  },
  {
   "cell_type": "markdown",
   "id": "6b646639",
   "metadata": {},
   "source": [
    "### (TEST DU KHI 2)\n",
    "#### Vérification de cette hypothèse par le test dU KHI-2 \n",
    " H0 : les variables sont indépendantes,\n",
    " H1 : Sinon"
   ]
  },
  {
   "cell_type": "code",
   "execution_count": 147,
   "id": "2e281e2e",
   "metadata": {},
   "outputs": [
    {
     "data": {
      "text/plain": [
       "        Sex\n",
       "Survived female male\n",
       "       0     81  734\n",
       "       1    385  109"
      ]
     },
     "metadata": {},
     "output_type": "display_data"
    }
   ],
   "source": [
    "## Affiche de tableu de contingence 1 (Conting1)\n",
    "Conting1"
   ]
  },
  {
   "cell_type": "code",
   "execution_count": 148,
   "id": "9ba2185f",
   "metadata": {},
   "outputs": [],
   "source": [
    "row.names(Conting1) <- c(\"Mort\",\"Survécu\")"
   ]
  },
  {
   "cell_type": "code",
   "execution_count": 149,
   "id": "f4d68280",
   "metadata": {},
   "outputs": [
    {
     "data": {
      "text/plain": [
       "         Sex\n",
       "Survived  female male\n",
       "  Mort        81  734\n",
       "  Survécu    385  109"
      ]
     },
     "metadata": {},
     "output_type": "display_data"
    }
   ],
   "source": [
    "Conting1"
   ]
  },
  {
   "cell_type": "code",
   "execution_count": 150,
   "id": "2fc5c46c",
   "metadata": {},
   "outputs": [
    {
     "data": {
      "text/plain": [
       "\n",
       "\tPearson's Chi-squared test with Yates' continuity correction\n",
       "\n",
       "data:  Conting1\n",
       "X-squared = 617.31, df = 1, p-value < 2.2e-16\n"
      ]
     },
     "metadata": {},
     "output_type": "display_data"
    }
   ],
   "source": [
    "# On passe au test notre tableau de contingence\n",
    "(khi2 <- chisq.test(Conting1))"
   ]
  },
  {
   "cell_type": "markdown",
   "id": "10fe44a5",
   "metadata": {},
   "source": [
    "## Observation"
   ]
  },
  {
   "cell_type": "markdown",
   "id": "6a85e90d",
   "metadata": {},
   "source": [
    "**On note un p-value < 0.05 alors l'hypothèse H0 est rejetée**"
   ]
  },
  {
   "cell_type": "markdown",
   "id": "d395ab8e",
   "metadata": {},
   "source": [
    " **Nous pouvons donc conclure que le sort final des passagers était aussi dépendant de leur sex.**"
   ]
  },
  {
   "cell_type": "markdown",
   "id": "0deb20ba",
   "metadata": {},
   "source": [
    "##   - Qualitative / Quantitative ( Pclass / Age )"
   ]
  },
  {
   "cell_type": "code",
   "execution_count": 533,
   "id": "c3ad51a0",
   "metadata": {},
   "outputs": [],
   "source": [
    "PclassCpoy <- Pclass"
   ]
  },
  {
   "cell_type": "markdown",
   "id": "38e6a5a5",
   "metadata": {},
   "source": [
    " Estimation locale de densité et représenter le résultat sous forme de \n",
    "  \n",
    " carte à partir de la variable Age et Pclass. Suppression des\n",
    "\n",
    " observations ayant au moins une valeur manquante à l’aide de la \n",
    "\n",
    " fonction complete.cases  et estimation de  la densité locale à l’aide de \n",
    "\n",
    "la fonction kde2d de l’extension MASS1 et représentation à l’aide d’une des fonctions image "
   ]
  },
  {
   "cell_type": "code",
   "execution_count": 137,
   "id": "4b6bc981",
   "metadata": {},
   "outputs": [
    {
     "data": {
      "image/png": "[encoded data removed]",
      "text/plain": [
       "Plot with title \"\""
      ]
     },
     "metadata": {},
     "output_type": "display_data"
    }
   ],
   "source": [
    "library(MASS)\n",
    "tmp <- df_sub0[, c(\"Age\", \"Pclass\")]\n",
    "tmp <- tmp[complete.cases(tmp), ]\n",
    "filled.contour(kde2d(tmp$Age, tmp$Pclass), color = terrain.colors)"
   ]
  },
  {
   "cell_type": "markdown",
   "id": "94dd2721",
   "metadata": {},
   "source": [
    "### Observation "
   ]
  },
  {
   "cell_type": "markdown",
   "id": "63fb0ea4",
   "metadata": {},
   "source": [
    "#### Les personnes ayant un âge allant de 10 à 30 on été nombreux à être en classe 3 et 2\n",
    "#### Ceux ayant un âge de 30 à 40 ont été nombreux à occupé la classe 1"
   ]
  },
  {
   "cell_type": "markdown",
   "id": "bac4901c",
   "metadata": {},
   "source": [
    "##   - Qualitative / Quantitative ( Survived / Age )"
   ]
  },
  {
   "cell_type": "markdown",
   "id": "e76aa8ec",
   "metadata": {},
   "source": [
    "### Estimation locale de la densité entre la variable Survived et Age"
   ]
  },
  {
   "cell_type": "code",
   "execution_count": 150,
   "id": "8cc2a9be",
   "metadata": {},
   "outputs": [
    {
     "data": {
      "image/png": "[encoded data removed]",
      "text/plain": [
       "Plot with title \"\""
      ]
     },
     "metadata": {},
     "output_type": "display_data"
    }
   ],
   "source": [
    "tmp <- df_sub0[, c(\"Age\",\"Survived\")]\n",
    "tmp <- tmp[complete.cases(tmp), ]\n",
    "filled.contour(kde2d( tmp$Age, tmp$Survived), color = terrain.colors)"
   ]
  },
  {
   "cell_type": "markdown",
   "id": "5a6e89a0",
   "metadata": {},
   "source": [
    "### Observation"
   ]
  },
  {
   "cell_type": "markdown",
   "id": "36e3b6b4",
   "metadata": {},
   "source": [
    "D'après observation, on peut émettre commme hypothèse que les passagers âgés entre 15 a 40 ont beaucoup périts par rapport aux passagers âgés entre 40 à 70 ans.\n",
    "Et aussi le nombre de survis des passagers est beaucoup plus grand chez ceux âgés entre 15 à 40 que chez les passagers âgés entre 40 et 70 ans"
   ]
  },
  {
   "cell_type": "markdown",
   "id": "52638a94",
   "metadata": {},
   "source": [
    "## Comparaison de proportions de personnes ayant survécu en fonction de leur sex"
   ]
  },
  {
   "cell_type": "code",
   "execution_count": 472,
   "id": "58596db2",
   "metadata": {},
   "outputs": [
    {
     "data": {
      "text/plain": [
       "        Survived\n",
       "Sex      Mort Survécu\n",
       "  female  162     618\n",
       "  male   1202     218"
      ]
     },
     "metadata": {},
     "output_type": "display_data"
    }
   ],
   "source": [
    "t3 <- t(Conting1)\n",
    "t3"
   ]
  },
  {
   "cell_type": "code",
   "execution_count": 473,
   "id": "4c9e5be0",
   "metadata": {},
   "outputs": [
    {
     "data": {
      "text/html": [
       "<table>\n",
       "<thead><tr><th></th><th scope=col>Mort</th><th scope=col>Survécu</th><th scope=col></th></tr></thead>\n",
       "<tbody>\n",
       "\t<tr><th scope=row>female</th><td> 162</td><td>618 </td><td>0   </td></tr>\n",
       "\t<tr><th scope=row>male</th><td>1202</td><td>218 </td><td>0   </td></tr>\n",
       "\t<tr><th scope=row></th><td>   0</td><td>  0 </td><td>0   </td></tr>\n",
       "</tbody>\n",
       "</table>\n"
      ],
      "text/latex": [
       "\\begin{tabular}{r|lll}\n",
       "  & Mort & Survécu & \\\\\n",
       "\\hline\n",
       "\tfemale &  162 & 618  & 0   \\\\\n",
       "\tmale & 1202 & 218  & 0   \\\\\n",
       "\t &    0 &   0  & 0   \\\\\n",
       "\\end{tabular}\n"
      ],
      "text/markdown": [
       "\n",
       "| <!--/--> | Mort | Survécu |  |\n",
       "|---|---|---|---|\n",
       "| female |  162 | 618  | 0    |\n",
       "| male | 1202 | 218  | 0    |\n",
       "|  |    0 |   0  | 0    |\n",
       "\n"
      ],
      "text/plain": [
       "       Mort Survécu  \n",
       "female  162 618     0\n",
       "male   1202 218     0\n",
       "          0   0     0"
      ]
     },
     "metadata": {},
     "output_type": "display_data"
    }
   ],
   "source": [
    "#Ajouter une 3ième colonne avec une valeur nulles\n",
    "t3 <- cbind(t3,c(0,0))\n",
    "#Ajoute une 3ième ligne avec des valeurs nulles\n",
    "t3<-rbind(t3, c(0,0,0))\n",
    "t3"
   ]
  },
  {
   "cell_type": "code",
   "execution_count": 474,
   "id": "2c119d6b",
   "metadata": {},
   "outputs": [],
   "source": [
    "# Réalise la somme des lignes\n",
    "for(i in 1:nrow(t3)){t3[i,3]<-sum(t3[i,])}\n",
    "# Réalise la somme des colonnes\n",
    "for(i in 1:ncol(t3)){ t3[3,i]<-sum(t3[,i])}"
   ]
  },
  {
   "cell_type": "code",
   "execution_count": 475,
   "id": "06f35075",
   "metadata": {},
   "outputs": [],
   "source": [
    "row.names(t3)<- c(\"Mort\",\"Survécu\",\"Ensemble\")\n",
    "colnames(t3)<-c(\"female\",\"male\",\"Ensemble\")"
   ]
  },
  {
   "cell_type": "code",
   "execution_count": 476,
   "id": "b2b4ac38",
   "metadata": {},
   "outputs": [
    {
     "data": {
      "text/html": [
       "<table>\n",
       "<thead><tr><th></th><th scope=col>female</th><th scope=col>male</th><th scope=col>Ensemble</th></tr></thead>\n",
       "<tbody>\n",
       "\t<tr><th scope=row>Mort</th><td> 162</td><td>618 </td><td> 780</td></tr>\n",
       "\t<tr><th scope=row>Survécu</th><td>1202</td><td>218 </td><td>1420</td></tr>\n",
       "\t<tr><th scope=row>Ensemble</th><td>1364</td><td>836 </td><td>2200</td></tr>\n",
       "</tbody>\n",
       "</table>\n"
      ],
      "text/latex": [
       "\\begin{tabular}{r|lll}\n",
       "  & female & male & Ensemble\\\\\n",
       "\\hline\n",
       "\tMort &  162 & 618  &  780\\\\\n",
       "\tSurvécu & 1202 & 218  & 1420\\\\\n",
       "\tEnsemble & 1364 & 836  & 2200\\\\\n",
       "\\end{tabular}\n"
      ],
      "text/markdown": [
       "\n",
       "| <!--/--> | female | male | Ensemble |\n",
       "|---|---|---|---|\n",
       "| Mort |  162 | 618  |  780 |\n",
       "| Survécu | 1202 | 218  | 1420 |\n",
       "| Ensemble | 1364 | 836  | 2200 |\n",
       "\n"
      ],
      "text/plain": [
       "         female male Ensemble\n",
       "Mort      162   618   780    \n",
       "Survécu  1202   218  1420    \n",
       "Ensemble 1364   836  2200    "
      ]
     },
     "metadata": {},
     "output_type": "display_data"
    }
   ],
   "source": [
    "t3"
   ]
  },
  {
   "cell_type": "markdown",
   "id": "bdfc5622",
   "metadata": {},
   "source": [
    "#### Il suffit de transmettre notre tableau croisé (à 2×2 dimensions) à prop.test  (TEST DE PROPORTION)"
   ]
  },
  {
   "cell_type": "code",
   "execution_count": 496,
   "id": "5cfa6b7b",
   "metadata": {},
   "outputs": [
    {
     "data": {
      "text/plain": [
       "        Survived\n",
       "Sex      Mort Survécu\n",
       "  female  162     618\n",
       "  male   1202     218"
      ]
     },
     "metadata": {},
     "output_type": "display_data"
    }
   ],
   "source": [
    "t(Conting1)"
   ]
  },
  {
   "cell_type": "code",
   "execution_count": 494,
   "id": "1e21aec3",
   "metadata": {},
   "outputs": [
    {
     "data": {
      "text/plain": [
       "\n",
       "\t2-sample test for equality of proportions with continuity correction\n",
       "\n",
       "data:  t(Conting1)\n",
       "X-squared = 869.25, df = 1, p-value < 2.2e-16\n",
       "alternative hypothesis: two.sided\n",
       "95 percent confidence interval:\n",
       " -0.6738676 -0.6037055\n",
       "sample estimates:\n",
       "   prop 1    prop 2 \n",
       "0.2076923 0.8464789 \n"
      ]
     },
     "metadata": {},
     "output_type": "display_data"
    }
   ],
   "source": [
    "prop.test(t(Conting1))"
   ]
  },
  {
   "cell_type": "markdown",
   "id": "93ebaa04",
   "metadata": {},
   "source": [
    "**prop 2 : 84 %  de femmes ayant survécus et prop 1 : 20 % d'hommes ayant survécus**"
   ]
  },
  {
   "cell_type": "markdown",
   "id": "0397e45d",
   "metadata": {},
   "source": [
    "##### Appel de la fonction fisher.test qui renverra notamment l’odds ratio et son intervalle de confiance correspondant :"
   ]
  },
  {
   "cell_type": "markdown",
   "id": "9d331e19",
   "metadata": {},
   "source": [
    "### TEST DE FISHER"
   ]
  },
  {
   "cell_type": "code",
   "execution_count": 495,
   "id": "2ddab614",
   "metadata": {},
   "outputs": [
    {
     "data": {
      "text/plain": [
       "\n",
       "\tFisher's Exact Test for Count Data\n",
       "\n",
       "data:  t(Conting1)\n",
       "p-value < 2.2e-16\n",
       "alternative hypothesis: true odds ratio is not equal to 1\n",
       "95 percent confidence interval:\n",
       " 0.03770511 0.05994771\n",
       "sample estimates:\n",
       "odds ratio \n",
       "0.04764156 \n"
      ]
     },
     "metadata": {},
     "output_type": "display_data"
    }
   ],
   "source": [
    "fisher.test(t(Conting1))"
   ]
  },
  {
   "cell_type": "code",
   "execution_count": 431,
   "id": "ee6627b8",
   "metadata": {},
   "outputs": [
    {
     "data": {
      "text/plain": [
       "           Survived\n",
       "Pclass      Mort Survécu\n",
       "  1st class  217     322\n",
       "  2nd class  257     204\n",
       "  3rd class  890     310"
      ]
     },
     "metadata": {},
     "output_type": "display_data"
    }
   ],
   "source": [
    "tConting2 <- t(Conting2)\n",
    "row.names(tConting2)<-c(\"Mort\",\"Survécu\")\n",
    "t(tConting2)"
   ]
  },
  {
   "cell_type": "markdown",
   "id": "916268a4",
   "metadata": {},
   "source": [
    "## TEST DE SHAPIRO-WILK sur Age. \n",
    " H0 : la variable âge suit une loi normale, H1 : Sinon"
   ]
  },
  {
   "cell_type": "code",
   "execution_count": 512,
   "id": "df890025",
   "metadata": {},
   "outputs": [
    {
     "data": {
      "text/plain": [
       "\n",
       "\tShapiro-Wilk normality test\n",
       "\n",
       "data:  df_sub0$Age\n",
       "W = 0.98046, p-value = 9.088e-15\n"
      ]
     },
     "metadata": {},
     "output_type": "display_data"
    }
   ],
   "source": [
    "shapiro.test(df_sub0$Age)"
   ]
  },
  {
   "cell_type": "markdown",
   "id": "474aad63",
   "metadata": {},
   "source": [
    "#### Observation"
   ]
  },
  {
   "cell_type": "markdown",
   "id": "d400ec28",
   "metadata": {},
   "source": [
    "**Le p-value < 0.05, donc l'hypothèse H0 est rejétée.\n",
    "Donc notre variable âge ne suit pas une loi normale**"
   ]
  }
 ],
 "metadata": {
  "kernelspec": {
   "display_name": "R",
   "language": "R",
   "name": "ir"
  },
  "language_info": {
   "codemirror_mode": "r",
   "file_extension": ".r",
   "mimetype": "text/x-r-source",
   "name": "R",
   "pygments_lexer": "r",
   "version": "3.6.1"
  }
 },
 "nbformat": 4,
 "nbformat_minor": 5
}
